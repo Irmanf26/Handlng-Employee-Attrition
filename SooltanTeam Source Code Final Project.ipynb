{
 "cells": [
  {
   "cell_type": "markdown",
   "id": "92e9fd06",
   "metadata": {
    "papermill": {
     "duration": 0.060773,
     "end_time": "2021-10-17T17:28:43.634016",
     "exception": false,
     "start_time": "2021-10-17T17:28:43.573243",
     "status": "completed"
    },
    "tags": []
   },
   "source": [
    "## Prediksi Employee Attrition \n",
    "\n",
    "## Intro\n",
    "Sooltan Corp adalah perusahaan pengembangan perangkat lunak profesional yang membangun situs web dan aplikasi seluler yang berbasis di Jakarta, Indonesia sejak tahun 2017. \n",
    "Sooltan Corp memiliki visi untuk memberdayakan klien Startup, Small Medium Business, dan Enterprise, dengan memberikan solusi di berbagai platform seperti infrastruktur PHP, Android, iOS, Magento, dan Cloud\n",
    "\n",
    "### Problem\n",
    "Attrition rate di Sooltan Corp mencapai 16%, sedangkan attririon rate di perusahaan sejenis hanya mencapai 10,9%.\n",
    "\n",
    "### Objective\n",
    "Mengetahui faktor-faktor yang paling berpengaruh terhadap attrition rate di perusahaan ini.\n",
    "Memberikan rekomendasi tentang apa saja yang dapat dilakukan oleh pihak perusahaan untuk mengurangi attrition rate tersebut."
   ]
  },
  {
   "cell_type": "markdown",
   "id": "d22ea8b6",
   "metadata": {
    "papermill": {
     "duration": 0.057095,
     "end_time": "2021-10-17T17:28:43.749268",
     "exception": false,
     "start_time": "2021-10-17T17:28:43.692173",
     "status": "completed"
    },
    "tags": []
   },
   "source": [
    "## 1. Prepare the data"
   ]
  },
  {
   "cell_type": "markdown",
   "id": "ef050b9b",
   "metadata": {
    "papermill": {
     "duration": 0.057786,
     "end_time": "2021-10-17T17:28:43.864459",
     "exception": false,
     "start_time": "2021-10-17T17:28:43.806673",
     "status": "completed"
    },
    "tags": []
   },
   "source": [
    "### a. Loading libraries"
   ]
  },
  {
   "cell_type": "code",
   "execution_count": 1,
   "id": "f826032d",
   "metadata": {
    "papermill": {
     "duration": 4.891041,
     "end_time": "2021-10-17T17:28:58.938483",
     "exception": false,
     "start_time": "2021-10-17T17:28:54.047442",
     "status": "completed"
    },
    "tags": []
   },
   "outputs": [],
   "source": [
    "import math\n",
    "import numpy as np\n",
    "import pandas as pd\n",
    "\n",
    "import scipy.stats as stats\n",
    "\n",
    "from imblearn.over_sampling import SMOTE\n",
    "from sklearn.preprocessing import LabelEncoder, OneHotEncoder, StandardScaler\n",
    "from sklearn.model_selection import train_test_split\n",
    "\n",
    "from sklearn.tree import DecisionTreeClassifier\n",
    "from sklearn.linear_model import LogisticRegression\n",
    "from sklearn.neighbors import KNeighborsClassifier\n",
    "\n",
    "from sklearn.model_selection import cross_val_score, StratifiedKFold, GridSearchCV, cross_val_predict, KFold\n",
    "from sklearn.metrics import (roc_curve, roc_auc_score, precision_recall_curve, classification_report, average_precision_score,\n",
    "                            PrecisionRecallDisplay)                 \n",
    "from sklearn.metrics import accuracy_score, precision_score, recall_score, f1_score\n",
    "\n",
    "import seaborn as sns\n",
    "import matplotlib.pyplot as plt\n",
    "\n",
    "import warnings\n",
    "warnings.filterwarnings('ignore')"
   ]
  },
  {
   "cell_type": "markdown",
   "id": "b90a4c58",
   "metadata": {
    "papermill": {
     "duration": 0.145233,
     "end_time": "2021-10-17T17:28:59.228852",
     "exception": false,
     "start_time": "2021-10-17T17:28:59.083619",
     "status": "completed"
    },
    "tags": []
   },
   "source": [
    "### b. Loding the dataset"
   ]
  },
  {
   "cell_type": "code",
   "execution_count": 2,
   "id": "dfa2c883",
   "metadata": {
    "papermill": {
     "duration": 0.201567,
     "end_time": "2021-10-17T17:28:59.571960",
     "exception": false,
     "start_time": "2021-10-17T17:28:59.370393",
     "status": "completed"
    },
    "tags": []
   },
   "outputs": [
    {
     "data": {
      "text/html": [
       "<div>\n",
       "<style scoped>\n",
       "    .dataframe tbody tr th:only-of-type {\n",
       "        vertical-align: middle;\n",
       "    }\n",
       "\n",
       "    .dataframe tbody tr th {\n",
       "        vertical-align: top;\n",
       "    }\n",
       "\n",
       "    .dataframe thead th {\n",
       "        text-align: right;\n",
       "    }\n",
       "</style>\n",
       "<table border=\"1\" class=\"dataframe\">\n",
       "  <thead>\n",
       "    <tr style=\"text-align: right;\">\n",
       "      <th></th>\n",
       "      <th>Age</th>\n",
       "      <th>Attrition</th>\n",
       "      <th>BusinessTravel</th>\n",
       "      <th>DailyRate</th>\n",
       "      <th>Department</th>\n",
       "      <th>DistanceFromHome</th>\n",
       "      <th>Education</th>\n",
       "      <th>EducationField</th>\n",
       "      <th>EmployeeCount</th>\n",
       "      <th>EmployeeNumber</th>\n",
       "      <th>...</th>\n",
       "      <th>RelationshipSatisfaction</th>\n",
       "      <th>StandardHours</th>\n",
       "      <th>StockOptionLevel</th>\n",
       "      <th>TotalWorkingYears</th>\n",
       "      <th>TrainingTimesLastYear</th>\n",
       "      <th>WorkLifeBalance</th>\n",
       "      <th>YearsAtCompany</th>\n",
       "      <th>YearsInCurrentRole</th>\n",
       "      <th>YearsSinceLastPromotion</th>\n",
       "      <th>YearsWithCurrManager</th>\n",
       "    </tr>\n",
       "  </thead>\n",
       "  <tbody>\n",
       "    <tr>\n",
       "      <th>0</th>\n",
       "      <td>41</td>\n",
       "      <td>Yes</td>\n",
       "      <td>Travel_Rarely</td>\n",
       "      <td>1102</td>\n",
       "      <td>Sales</td>\n",
       "      <td>1</td>\n",
       "      <td>2</td>\n",
       "      <td>Life Sciences</td>\n",
       "      <td>1</td>\n",
       "      <td>1</td>\n",
       "      <td>...</td>\n",
       "      <td>1</td>\n",
       "      <td>80</td>\n",
       "      <td>0</td>\n",
       "      <td>8</td>\n",
       "      <td>0</td>\n",
       "      <td>1</td>\n",
       "      <td>6</td>\n",
       "      <td>4</td>\n",
       "      <td>0</td>\n",
       "      <td>5</td>\n",
       "    </tr>\n",
       "    <tr>\n",
       "      <th>1</th>\n",
       "      <td>49</td>\n",
       "      <td>No</td>\n",
       "      <td>Travel_Frequently</td>\n",
       "      <td>279</td>\n",
       "      <td>Research &amp; Development</td>\n",
       "      <td>8</td>\n",
       "      <td>1</td>\n",
       "      <td>Life Sciences</td>\n",
       "      <td>1</td>\n",
       "      <td>2</td>\n",
       "      <td>...</td>\n",
       "      <td>4</td>\n",
       "      <td>80</td>\n",
       "      <td>1</td>\n",
       "      <td>10</td>\n",
       "      <td>3</td>\n",
       "      <td>3</td>\n",
       "      <td>10</td>\n",
       "      <td>7</td>\n",
       "      <td>1</td>\n",
       "      <td>7</td>\n",
       "    </tr>\n",
       "    <tr>\n",
       "      <th>2</th>\n",
       "      <td>37</td>\n",
       "      <td>Yes</td>\n",
       "      <td>Travel_Rarely</td>\n",
       "      <td>1373</td>\n",
       "      <td>Research &amp; Development</td>\n",
       "      <td>2</td>\n",
       "      <td>2</td>\n",
       "      <td>Other</td>\n",
       "      <td>1</td>\n",
       "      <td>4</td>\n",
       "      <td>...</td>\n",
       "      <td>2</td>\n",
       "      <td>80</td>\n",
       "      <td>0</td>\n",
       "      <td>7</td>\n",
       "      <td>3</td>\n",
       "      <td>3</td>\n",
       "      <td>0</td>\n",
       "      <td>0</td>\n",
       "      <td>0</td>\n",
       "      <td>0</td>\n",
       "    </tr>\n",
       "    <tr>\n",
       "      <th>3</th>\n",
       "      <td>33</td>\n",
       "      <td>No</td>\n",
       "      <td>Travel_Frequently</td>\n",
       "      <td>1392</td>\n",
       "      <td>Research &amp; Development</td>\n",
       "      <td>3</td>\n",
       "      <td>4</td>\n",
       "      <td>Life Sciences</td>\n",
       "      <td>1</td>\n",
       "      <td>5</td>\n",
       "      <td>...</td>\n",
       "      <td>3</td>\n",
       "      <td>80</td>\n",
       "      <td>0</td>\n",
       "      <td>8</td>\n",
       "      <td>3</td>\n",
       "      <td>3</td>\n",
       "      <td>8</td>\n",
       "      <td>7</td>\n",
       "      <td>3</td>\n",
       "      <td>0</td>\n",
       "    </tr>\n",
       "    <tr>\n",
       "      <th>4</th>\n",
       "      <td>27</td>\n",
       "      <td>No</td>\n",
       "      <td>Travel_Rarely</td>\n",
       "      <td>591</td>\n",
       "      <td>Research &amp; Development</td>\n",
       "      <td>2</td>\n",
       "      <td>1</td>\n",
       "      <td>Medical</td>\n",
       "      <td>1</td>\n",
       "      <td>7</td>\n",
       "      <td>...</td>\n",
       "      <td>4</td>\n",
       "      <td>80</td>\n",
       "      <td>1</td>\n",
       "      <td>6</td>\n",
       "      <td>3</td>\n",
       "      <td>3</td>\n",
       "      <td>2</td>\n",
       "      <td>2</td>\n",
       "      <td>2</td>\n",
       "      <td>2</td>\n",
       "    </tr>\n",
       "  </tbody>\n",
       "</table>\n",
       "<p>5 rows × 35 columns</p>\n",
       "</div>"
      ],
      "text/plain": [
       "   Age Attrition     BusinessTravel  DailyRate              Department  \\\n",
       "0   41       Yes      Travel_Rarely       1102                   Sales   \n",
       "1   49        No  Travel_Frequently        279  Research & Development   \n",
       "2   37       Yes      Travel_Rarely       1373  Research & Development   \n",
       "3   33        No  Travel_Frequently       1392  Research & Development   \n",
       "4   27        No      Travel_Rarely        591  Research & Development   \n",
       "\n",
       "   DistanceFromHome  Education EducationField  EmployeeCount  EmployeeNumber  \\\n",
       "0                 1          2  Life Sciences              1               1   \n",
       "1                 8          1  Life Sciences              1               2   \n",
       "2                 2          2          Other              1               4   \n",
       "3                 3          4  Life Sciences              1               5   \n",
       "4                 2          1        Medical              1               7   \n",
       "\n",
       "   ...  RelationshipSatisfaction StandardHours  StockOptionLevel  \\\n",
       "0  ...                         1            80                 0   \n",
       "1  ...                         4            80                 1   \n",
       "2  ...                         2            80                 0   \n",
       "3  ...                         3            80                 0   \n",
       "4  ...                         4            80                 1   \n",
       "\n",
       "   TotalWorkingYears  TrainingTimesLastYear WorkLifeBalance  YearsAtCompany  \\\n",
       "0                  8                      0               1               6   \n",
       "1                 10                      3               3              10   \n",
       "2                  7                      3               3               0   \n",
       "3                  8                      3               3               8   \n",
       "4                  6                      3               3               2   \n",
       "\n",
       "  YearsInCurrentRole  YearsSinceLastPromotion  YearsWithCurrManager  \n",
       "0                  4                        0                     5  \n",
       "1                  7                        1                     7  \n",
       "2                  0                        0                     0  \n",
       "3                  7                        3                     0  \n",
       "4                  2                        2                     2  \n",
       "\n",
       "[5 rows x 35 columns]"
      ]
     },
     "execution_count": 2,
     "metadata": {},
     "output_type": "execute_result"
    }
   ],
   "source": [
    "df = pd.read_csv('WA_Fn-UseC_-HR-Employee-Attrition.csv')\n",
    "df.head()"
   ]
  },
  {
   "cell_type": "code",
   "execution_count": 3,
   "id": "6fbb2f9a",
   "metadata": {
    "papermill": {
     "duration": 0.221146,
     "end_time": "2021-10-17T17:29:00.228007",
     "exception": false,
     "start_time": "2021-10-17T17:29:00.006861",
     "status": "completed"
    },
    "tags": []
   },
   "outputs": [
    {
     "data": {
      "text/html": [
       "<div>\n",
       "<style scoped>\n",
       "    .dataframe tbody tr th:only-of-type {\n",
       "        vertical-align: middle;\n",
       "    }\n",
       "\n",
       "    .dataframe tbody tr th {\n",
       "        vertical-align: top;\n",
       "    }\n",
       "\n",
       "    .dataframe thead th {\n",
       "        text-align: right;\n",
       "    }\n",
       "</style>\n",
       "<table border=\"1\" class=\"dataframe\">\n",
       "  <thead>\n",
       "    <tr style=\"text-align: right;\">\n",
       "      <th></th>\n",
       "      <th>Age</th>\n",
       "      <th>DailyRate</th>\n",
       "      <th>DistanceFromHome</th>\n",
       "      <th>Education</th>\n",
       "      <th>EmployeeCount</th>\n",
       "      <th>EmployeeNumber</th>\n",
       "      <th>EnvironmentSatisfaction</th>\n",
       "      <th>HourlyRate</th>\n",
       "      <th>JobInvolvement</th>\n",
       "      <th>JobLevel</th>\n",
       "      <th>...</th>\n",
       "      <th>RelationshipSatisfaction</th>\n",
       "      <th>StandardHours</th>\n",
       "      <th>StockOptionLevel</th>\n",
       "      <th>TotalWorkingYears</th>\n",
       "      <th>TrainingTimesLastYear</th>\n",
       "      <th>WorkLifeBalance</th>\n",
       "      <th>YearsAtCompany</th>\n",
       "      <th>YearsInCurrentRole</th>\n",
       "      <th>YearsSinceLastPromotion</th>\n",
       "      <th>YearsWithCurrManager</th>\n",
       "    </tr>\n",
       "  </thead>\n",
       "  <tbody>\n",
       "    <tr>\n",
       "      <th>count</th>\n",
       "      <td>1470.000000</td>\n",
       "      <td>1470.000000</td>\n",
       "      <td>1470.000000</td>\n",
       "      <td>1470.000000</td>\n",
       "      <td>1470.0</td>\n",
       "      <td>1470.000000</td>\n",
       "      <td>1470.000000</td>\n",
       "      <td>1470.000000</td>\n",
       "      <td>1470.000000</td>\n",
       "      <td>1470.000000</td>\n",
       "      <td>...</td>\n",
       "      <td>1470.000000</td>\n",
       "      <td>1470.0</td>\n",
       "      <td>1470.000000</td>\n",
       "      <td>1470.000000</td>\n",
       "      <td>1470.000000</td>\n",
       "      <td>1470.000000</td>\n",
       "      <td>1470.000000</td>\n",
       "      <td>1470.000000</td>\n",
       "      <td>1470.000000</td>\n",
       "      <td>1470.000000</td>\n",
       "    </tr>\n",
       "    <tr>\n",
       "      <th>mean</th>\n",
       "      <td>36.923810</td>\n",
       "      <td>802.485714</td>\n",
       "      <td>9.192517</td>\n",
       "      <td>2.912925</td>\n",
       "      <td>1.0</td>\n",
       "      <td>1024.865306</td>\n",
       "      <td>2.721769</td>\n",
       "      <td>65.891156</td>\n",
       "      <td>2.729932</td>\n",
       "      <td>2.063946</td>\n",
       "      <td>...</td>\n",
       "      <td>2.712245</td>\n",
       "      <td>80.0</td>\n",
       "      <td>0.793878</td>\n",
       "      <td>11.279592</td>\n",
       "      <td>2.799320</td>\n",
       "      <td>2.761224</td>\n",
       "      <td>7.008163</td>\n",
       "      <td>4.229252</td>\n",
       "      <td>2.187755</td>\n",
       "      <td>4.123129</td>\n",
       "    </tr>\n",
       "    <tr>\n",
       "      <th>std</th>\n",
       "      <td>9.135373</td>\n",
       "      <td>403.509100</td>\n",
       "      <td>8.106864</td>\n",
       "      <td>1.024165</td>\n",
       "      <td>0.0</td>\n",
       "      <td>602.024335</td>\n",
       "      <td>1.093082</td>\n",
       "      <td>20.329428</td>\n",
       "      <td>0.711561</td>\n",
       "      <td>1.106940</td>\n",
       "      <td>...</td>\n",
       "      <td>1.081209</td>\n",
       "      <td>0.0</td>\n",
       "      <td>0.852077</td>\n",
       "      <td>7.780782</td>\n",
       "      <td>1.289271</td>\n",
       "      <td>0.706476</td>\n",
       "      <td>6.126525</td>\n",
       "      <td>3.623137</td>\n",
       "      <td>3.222430</td>\n",
       "      <td>3.568136</td>\n",
       "    </tr>\n",
       "    <tr>\n",
       "      <th>min</th>\n",
       "      <td>18.000000</td>\n",
       "      <td>102.000000</td>\n",
       "      <td>1.000000</td>\n",
       "      <td>1.000000</td>\n",
       "      <td>1.0</td>\n",
       "      <td>1.000000</td>\n",
       "      <td>1.000000</td>\n",
       "      <td>30.000000</td>\n",
       "      <td>1.000000</td>\n",
       "      <td>1.000000</td>\n",
       "      <td>...</td>\n",
       "      <td>1.000000</td>\n",
       "      <td>80.0</td>\n",
       "      <td>0.000000</td>\n",
       "      <td>0.000000</td>\n",
       "      <td>0.000000</td>\n",
       "      <td>1.000000</td>\n",
       "      <td>0.000000</td>\n",
       "      <td>0.000000</td>\n",
       "      <td>0.000000</td>\n",
       "      <td>0.000000</td>\n",
       "    </tr>\n",
       "    <tr>\n",
       "      <th>25%</th>\n",
       "      <td>30.000000</td>\n",
       "      <td>465.000000</td>\n",
       "      <td>2.000000</td>\n",
       "      <td>2.000000</td>\n",
       "      <td>1.0</td>\n",
       "      <td>491.250000</td>\n",
       "      <td>2.000000</td>\n",
       "      <td>48.000000</td>\n",
       "      <td>2.000000</td>\n",
       "      <td>1.000000</td>\n",
       "      <td>...</td>\n",
       "      <td>2.000000</td>\n",
       "      <td>80.0</td>\n",
       "      <td>0.000000</td>\n",
       "      <td>6.000000</td>\n",
       "      <td>2.000000</td>\n",
       "      <td>2.000000</td>\n",
       "      <td>3.000000</td>\n",
       "      <td>2.000000</td>\n",
       "      <td>0.000000</td>\n",
       "      <td>2.000000</td>\n",
       "    </tr>\n",
       "    <tr>\n",
       "      <th>50%</th>\n",
       "      <td>36.000000</td>\n",
       "      <td>802.000000</td>\n",
       "      <td>7.000000</td>\n",
       "      <td>3.000000</td>\n",
       "      <td>1.0</td>\n",
       "      <td>1020.500000</td>\n",
       "      <td>3.000000</td>\n",
       "      <td>66.000000</td>\n",
       "      <td>3.000000</td>\n",
       "      <td>2.000000</td>\n",
       "      <td>...</td>\n",
       "      <td>3.000000</td>\n",
       "      <td>80.0</td>\n",
       "      <td>1.000000</td>\n",
       "      <td>10.000000</td>\n",
       "      <td>3.000000</td>\n",
       "      <td>3.000000</td>\n",
       "      <td>5.000000</td>\n",
       "      <td>3.000000</td>\n",
       "      <td>1.000000</td>\n",
       "      <td>3.000000</td>\n",
       "    </tr>\n",
       "    <tr>\n",
       "      <th>75%</th>\n",
       "      <td>43.000000</td>\n",
       "      <td>1157.000000</td>\n",
       "      <td>14.000000</td>\n",
       "      <td>4.000000</td>\n",
       "      <td>1.0</td>\n",
       "      <td>1555.750000</td>\n",
       "      <td>4.000000</td>\n",
       "      <td>83.750000</td>\n",
       "      <td>3.000000</td>\n",
       "      <td>3.000000</td>\n",
       "      <td>...</td>\n",
       "      <td>4.000000</td>\n",
       "      <td>80.0</td>\n",
       "      <td>1.000000</td>\n",
       "      <td>15.000000</td>\n",
       "      <td>3.000000</td>\n",
       "      <td>3.000000</td>\n",
       "      <td>9.000000</td>\n",
       "      <td>7.000000</td>\n",
       "      <td>3.000000</td>\n",
       "      <td>7.000000</td>\n",
       "    </tr>\n",
       "    <tr>\n",
       "      <th>max</th>\n",
       "      <td>60.000000</td>\n",
       "      <td>1499.000000</td>\n",
       "      <td>29.000000</td>\n",
       "      <td>5.000000</td>\n",
       "      <td>1.0</td>\n",
       "      <td>2068.000000</td>\n",
       "      <td>4.000000</td>\n",
       "      <td>100.000000</td>\n",
       "      <td>4.000000</td>\n",
       "      <td>5.000000</td>\n",
       "      <td>...</td>\n",
       "      <td>4.000000</td>\n",
       "      <td>80.0</td>\n",
       "      <td>3.000000</td>\n",
       "      <td>40.000000</td>\n",
       "      <td>6.000000</td>\n",
       "      <td>4.000000</td>\n",
       "      <td>40.000000</td>\n",
       "      <td>18.000000</td>\n",
       "      <td>15.000000</td>\n",
       "      <td>17.000000</td>\n",
       "    </tr>\n",
       "  </tbody>\n",
       "</table>\n",
       "<p>8 rows × 26 columns</p>\n",
       "</div>"
      ],
      "text/plain": [
       "               Age    DailyRate  DistanceFromHome    Education  EmployeeCount  \\\n",
       "count  1470.000000  1470.000000       1470.000000  1470.000000         1470.0   \n",
       "mean     36.923810   802.485714          9.192517     2.912925            1.0   \n",
       "std       9.135373   403.509100          8.106864     1.024165            0.0   \n",
       "min      18.000000   102.000000          1.000000     1.000000            1.0   \n",
       "25%      30.000000   465.000000          2.000000     2.000000            1.0   \n",
       "50%      36.000000   802.000000          7.000000     3.000000            1.0   \n",
       "75%      43.000000  1157.000000         14.000000     4.000000            1.0   \n",
       "max      60.000000  1499.000000         29.000000     5.000000            1.0   \n",
       "\n",
       "       EmployeeNumber  EnvironmentSatisfaction   HourlyRate  JobInvolvement  \\\n",
       "count     1470.000000              1470.000000  1470.000000     1470.000000   \n",
       "mean      1024.865306                 2.721769    65.891156        2.729932   \n",
       "std        602.024335                 1.093082    20.329428        0.711561   \n",
       "min          1.000000                 1.000000    30.000000        1.000000   \n",
       "25%        491.250000                 2.000000    48.000000        2.000000   \n",
       "50%       1020.500000                 3.000000    66.000000        3.000000   \n",
       "75%       1555.750000                 4.000000    83.750000        3.000000   \n",
       "max       2068.000000                 4.000000   100.000000        4.000000   \n",
       "\n",
       "          JobLevel  ...  RelationshipSatisfaction  StandardHours  \\\n",
       "count  1470.000000  ...               1470.000000         1470.0   \n",
       "mean      2.063946  ...                  2.712245           80.0   \n",
       "std       1.106940  ...                  1.081209            0.0   \n",
       "min       1.000000  ...                  1.000000           80.0   \n",
       "25%       1.000000  ...                  2.000000           80.0   \n",
       "50%       2.000000  ...                  3.000000           80.0   \n",
       "75%       3.000000  ...                  4.000000           80.0   \n",
       "max       5.000000  ...                  4.000000           80.0   \n",
       "\n",
       "       StockOptionLevel  TotalWorkingYears  TrainingTimesLastYear  \\\n",
       "count       1470.000000        1470.000000            1470.000000   \n",
       "mean           0.793878          11.279592               2.799320   \n",
       "std            0.852077           7.780782               1.289271   \n",
       "min            0.000000           0.000000               0.000000   \n",
       "25%            0.000000           6.000000               2.000000   \n",
       "50%            1.000000          10.000000               3.000000   \n",
       "75%            1.000000          15.000000               3.000000   \n",
       "max            3.000000          40.000000               6.000000   \n",
       "\n",
       "       WorkLifeBalance  YearsAtCompany  YearsInCurrentRole  \\\n",
       "count      1470.000000     1470.000000         1470.000000   \n",
       "mean          2.761224        7.008163            4.229252   \n",
       "std           0.706476        6.126525            3.623137   \n",
       "min           1.000000        0.000000            0.000000   \n",
       "25%           2.000000        3.000000            2.000000   \n",
       "50%           3.000000        5.000000            3.000000   \n",
       "75%           3.000000        9.000000            7.000000   \n",
       "max           4.000000       40.000000           18.000000   \n",
       "\n",
       "       YearsSinceLastPromotion  YearsWithCurrManager  \n",
       "count              1470.000000           1470.000000  \n",
       "mean                  2.187755              4.123129  \n",
       "std                   3.222430              3.568136  \n",
       "min                   0.000000              0.000000  \n",
       "25%                   0.000000              2.000000  \n",
       "50%                   1.000000              3.000000  \n",
       "75%                   3.000000              7.000000  \n",
       "max                  15.000000             17.000000  \n",
       "\n",
       "[8 rows x 26 columns]"
      ]
     },
     "execution_count": 3,
     "metadata": {},
     "output_type": "execute_result"
    }
   ],
   "source": [
    "df.describe()"
   ]
  },
  {
   "cell_type": "markdown",
   "id": "f2987210",
   "metadata": {
    "papermill": {
     "duration": 0.139329,
     "end_time": "2021-10-17T17:29:00.509688",
     "exception": false,
     "start_time": "2021-10-17T17:29:00.370359",
     "status": "completed"
    },
    "tags": []
   },
   "source": [
    "Melihat nilai unik pada kolom dengan tipe data kategorical "
   ]
  },
  {
   "cell_type": "code",
   "execution_count": 4,
   "id": "11860645",
   "metadata": {
    "papermill": {
     "duration": 0.154212,
     "end_time": "2021-10-17T17:29:00.804426",
     "exception": false,
     "start_time": "2021-10-17T17:29:00.650214",
     "status": "completed"
    },
    "tags": []
   },
   "outputs": [
    {
     "name": "stdout",
     "output_type": "stream",
     "text": [
      "['Sales' 'Research & Development' 'Human Resources']\n",
      "['Travel_Rarely' 'Travel_Frequently' 'Non-Travel']\n",
      "['Life Sciences' 'Other' 'Medical' 'Marketing' 'Technical Degree'\n",
      " 'Human Resources']\n",
      "['Female' 'Male']\n",
      "['Sales Executive' 'Research Scientist' 'Laboratory Technician'\n",
      " 'Manufacturing Director' 'Healthcare Representative' 'Manager'\n",
      " 'Sales Representative' 'Research Director' 'Human Resources']\n",
      "['Single' 'Married' 'Divorced']\n",
      "['Yes' 'No']\n"
     ]
    }
   ],
   "source": [
    "print(df.Department.unique())\n",
    "print(df.BusinessTravel.unique())\n",
    "print(df.EducationField.unique())\n",
    "print(df.Gender.unique())\n",
    "print(df.JobRole.unique())\n",
    "print(df.MaritalStatus.unique())\n",
    "print(df.Attrition.unique())"
   ]
  },
  {
   "cell_type": "markdown",
   "id": "19747f36",
   "metadata": {
    "papermill": {
     "duration": 0.1442,
     "end_time": "2021-10-17T17:29:01.089283",
     "exception": false,
     "start_time": "2021-10-17T17:29:00.945083",
     "status": "completed"
    },
    "tags": []
   },
   "source": [
    "## 2. Summerize data"
   ]
  },
  {
   "cell_type": "markdown",
   "id": "5871ecd3",
   "metadata": {
    "papermill": {
     "duration": 0.143201,
     "end_time": "2021-10-17T17:29:02.390533",
     "exception": false,
     "start_time": "2021-10-17T17:29:02.247332",
     "status": "completed"
    },
    "tags": []
   },
   "source": [
    "### a. Data visualization"
   ]
  },
  {
   "cell_type": "markdown",
   "id": "231c8062-f7cc-4bd4-91d4-9a0d395a4680",
   "metadata": {},
   "source": [
    "Copy dataframe kedalam dataframe baru untuk visualisasi"
   ]
  },
  {
   "cell_type": "code",
   "execution_count": 5,
   "id": "61ab29bd-73f5-4558-ba3a-9da923a79b93",
   "metadata": {},
   "outputs": [],
   "source": [
    "dataframe = df.copy()"
   ]
  },
  {
   "cell_type": "markdown",
   "id": "3d651990-c51f-4a16-88e9-2781a92b0d48",
   "metadata": {},
   "source": [
    "**Segmentasi kolom dengan nilai unik yang cukup banyak, untuk melihat pola atrisi yang lebih jelas**"
   ]
  },
  {
   "cell_type": "code",
   "execution_count": 6,
   "id": "4edcd015-a14d-457f-a706-548242874032",
   "metadata": {},
   "outputs": [],
   "source": [
    "#mensegmentasikan employee berdasar usia, diketahui rentang usia: 18-60 th, shg pengelompokkan dilakukan dg rentang usia dlm 1 kelompok ~ 10 th \n",
    "def Age(dataframe):\n",
    "    dataframe.loc[dataframe['Age'] <= 30,'Age'] = 1\n",
    "    dataframe.loc[(dataframe['Age'] > 30) & (dataframe['Age'] <= 40), 'Age'] = 2\n",
    "    dataframe.loc[(dataframe['Age'] > 40) & (dataframe['Age'] <= 50), 'Age'] = 3\n",
    "    dataframe.loc[(dataframe['Age'] > 50) & (dataframe['Age'] <= 60), 'Age'] = 4\n",
    "    return dataframe\n",
    "\n",
    "Age(dataframe); "
   ]
  },
  {
   "cell_type": "code",
   "execution_count": 7,
   "id": "fc514440-76f9-4456-af68-d19e92b74796",
   "metadata": {},
   "outputs": [],
   "source": [
    "import numpy as np\n",
    "#mensegmentasikan kelompok jarak rumah \n",
    "def DistanceFromHome(dataframe):\n",
    "    dataframe.loc[dataframe['DistanceFromHome'] <= 5,'DistanceFromHome'] = 1\n",
    "    dataframe.loc[(dataframe['DistanceFromHome'] > 5) & (dataframe['DistanceFromHome'] <= 10), 'DistanceFromHome'] = 2\n",
    "    dataframe.loc[(dataframe['DistanceFromHome'] > 10) & (dataframe['DistanceFromHome'] <= 15), 'DistanceFromHome'] = 3\n",
    "    dataframe.loc[(dataframe['DistanceFromHome'] > 15) & (dataframe['DistanceFromHome'] <= 20), 'DistanceFromHome'] = 4\n",
    "    dataframe.loc[(dataframe['DistanceFromHome'] > 20) & (dataframe['DistanceFromHome'] <= 25), 'DistanceFromHome'] = 5\n",
    "    dataframe.loc[(dataframe['DistanceFromHome'] > 25) & (dataframe['DistanceFromHome'] <= 30), 'DistanceFromHome'] = 6\n",
    "    return dataframe\n",
    "\n",
    "DistanceFromHome(dataframe); "
   ]
  },
  {
   "cell_type": "code",
   "execution_count": 8,
   "id": "59116668-497f-47e0-be9a-8976829f0c9a",
   "metadata": {},
   "outputs": [],
   "source": [
    "# mensegmentasikan monthly salary (10.000-200.000$)\n",
    "def MonthlyIncome(dataframe):\n",
    "    dataframe.loc[dataframe['MonthlyIncome'] <= 50000,'MonthlyIncome'] = 1\n",
    "    dataframe.loc[(dataframe['MonthlyIncome'] > 50000) & (dataframe['MonthlyIncome'] <= 100000), 'MonthlyIncome'] = 2\n",
    "    dataframe.loc[(dataframe['MonthlyIncome'] > 100000) & (dataframe['MonthlyIncome'] <= 150000), 'MonthlyIncome'] = 3\n",
    "    dataframe.loc[dataframe['MonthlyIncome'] > 150000, 'MonthlyIncome'] = 4\n",
    "    return dataframe\n",
    "\n",
    "MonthlyIncome(dataframe); "
   ]
  },
  {
   "cell_type": "code",
   "execution_count": 9,
   "id": "0cda9836-7a4b-49cf-9de0-6ffae5ac98ad",
   "metadata": {},
   "outputs": [],
   "source": [
    "# mensegmentasikan total working years (1-40 tahun)\n",
    "def TotalWorkingYears(dataframe):\n",
    "    dataframe.loc[dataframe['TotalWorkingYears'] <= 10,'TotalWorkingYears'] = 1\n",
    "    dataframe.loc[(dataframe['TotalWorkingYears'] > 10) & (dataframe['TotalWorkingYears'] <= 20), 'TotalWorkingYears'] = 2\n",
    "    dataframe.loc[(dataframe['TotalWorkingYears'] > 20) & (dataframe['TotalWorkingYears'] <= 30), 'TotalWorkingYears'] = 3\n",
    "    dataframe.loc[dataframe['TotalWorkingYears'] > 30, 'TotalWorkingYears'] = 4\n",
    "    return dataframe\n",
    "\n",
    "TotalWorkingYears(dataframe); "
   ]
  },
  {
   "cell_type": "code",
   "execution_count": 10,
   "id": "42d6a7f5-4d63-4400-88a9-5a72ab9db898",
   "metadata": {},
   "outputs": [],
   "source": [
    "# mensegmentasikan Years at Company (1-40 tahun)\n",
    "def YearsAtCompany(dataframe):\n",
    "    dataframe.loc[dataframe['YearsAtCompany'] <= 10,'YearsAtCompany'] = 1\n",
    "    dataframe.loc[(dataframe['YearsAtCompany'] > 10) & (dataframe['YearsAtCompany'] <= 20), 'YearsAtCompany'] = 2\n",
    "    dataframe.loc[(dataframe['YearsAtCompany'] > 20) & (dataframe['YearsAtCompany'] <= 30), 'YearsAtCompany'] = 3\n",
    "    dataframe.loc[dataframe['YearsAtCompany'] > 30, 'YearsAtCompany'] = 4\n",
    "    return dataframe\n",
    "\n",
    "YearsAtCompany(dataframe); "
   ]
  },
  {
   "cell_type": "code",
   "execution_count": 11,
   "id": "f6cf8c18-ac1e-4516-8192-e122165391f3",
   "metadata": {},
   "outputs": [],
   "source": [
    "# mensegmentasikan Years with Current Manager (1-17 tahun)\n",
    "def YearsWithCurrManager(dataframe):\n",
    "    dataframe.loc[dataframe['YearsWithCurrManager'] <= 5,'YearsWithCurrManager'] = 1\n",
    "    dataframe.loc[(dataframe['YearsWithCurrManager'] > 5) & (dataframe['YearsWithCurrManager'] <= 10), 'YearsWithCurrManager'] = 2\n",
    "    dataframe.loc[(dataframe['YearsWithCurrManager'] > 10) & (dataframe['YearsWithCurrManager'] <= 15), 'YearsWithCurrManager'] = 3\n",
    "    dataframe.loc[dataframe['YearsWithCurrManager'] > 15, 'YearsWithCurrManager'] = 4\n",
    "    return dataframe\n",
    "\n",
    "YearsWithCurrManager(dataframe); "
   ]
  },
  {
   "cell_type": "code",
   "execution_count": 12,
   "id": "312598f5-eec1-4181-ab61-3f00e9e8e568",
   "metadata": {},
   "outputs": [],
   "source": [
    "#mensegmentasikan Dailyrate \n",
    "def DailyRate(dataframe):\n",
    "    dataframe.loc[dataframe['DailyRate'] <= 300,'DailyRate'] = 1\n",
    "    dataframe.loc[(dataframe['DailyRate'] > 300) & (dataframe['DailyRate'] <= 600), 'DailyRate'] = 2\n",
    "    dataframe.loc[(dataframe['DailyRate'] > 600) & (dataframe['DailyRate'] <= 900), 'DailyRate'] = 3\n",
    "    dataframe.loc[(dataframe['DailyRate'] > 900) & (dataframe['DailyRate'] <= 1200), 'DailyRate'] = 4\n",
    "    dataframe.loc[dataframe['DailyRate'] > 1200, 'DailyRate'] = 5\n",
    "    return dataframe\n",
    "\n",
    "DailyRate(dataframe); "
   ]
  },
  {
   "cell_type": "code",
   "execution_count": 13,
   "id": "863bcbcb-4259-430c-9270-6a79bbf0ff54",
   "metadata": {},
   "outputs": [],
   "source": [
    "#mensegmentasikan HourlyRate \n",
    "def HourlyRate(dataframe):\n",
    "    dataframe.loc[dataframe['HourlyRate'] <= 50,'HourlyRate'] = 1\n",
    "    dataframe.loc[(dataframe['HourlyRate'] > 50) & (dataframe['HourlyRate'] <= 75), 'HourlyRate'] = 2\n",
    "    dataframe.loc[dataframe['HourlyRate'] > 75, 'HourlyRate'] = 3\n",
    "    return dataframe\n",
    "\n",
    "HourlyRate(dataframe); "
   ]
  },
  {
   "cell_type": "code",
   "execution_count": 14,
   "id": "4ab2b88b-e368-4d6e-83f2-7e2cc1b17b9d",
   "metadata": {},
   "outputs": [],
   "source": [
    "#mensegmentasikan MonthlyRate \n",
    "def MonthlyRate(dataframe):\n",
    "    dataframe.loc[dataframe['MonthlyRate'] <= 7000,'MonthlyRate'] = 1\n",
    "    dataframe.loc[(dataframe['MonthlyRate'] > 7000) & (dataframe['MonthlyRate'] <= 12000), 'MonthlyRate'] = 2\n",
    "    dataframe.loc[(dataframe['MonthlyRate'] > 12000) & (dataframe['MonthlyRate'] <= 17000), 'MonthlyRate'] = 3\n",
    "    dataframe.loc[(dataframe['MonthlyRate'] > 17000) & (dataframe['MonthlyRate'] <= 22000), 'MonthlyRate'] = 4\n",
    "    dataframe.loc[dataframe['MonthlyRate'] > 22000, 'MonthlyRate'] = 5\n",
    "    return dataframe\n",
    "\n",
    "MonthlyRate(dataframe); "
   ]
  },
  {
   "cell_type": "code",
   "execution_count": 15,
   "id": "161f8f7b-6ae5-41dd-b901-5f56ff317dde",
   "metadata": {},
   "outputs": [],
   "source": [
    "#mensegmentasikan YearsInCurrentRole \n",
    "def YearsInCurrentRole(dataframe):\n",
    "    dataframe.loc[dataframe['YearsInCurrentRole'] <= 7000,'YearsInCurrentRole'] = 1\n",
    "    dataframe.loc[(dataframe['YearsInCurrentRole'] > 7000) & (dataframe['YearsInCurrentRole'] <= 12000), 'YearsInCurrentRole'] = 2\n",
    "    dataframe.loc[(dataframe['YearsInCurrentRole'] > 12000) & (dataframe['YearsInCurrentRole'] <= 17000), 'YearsInCurrentRole'] = 3\n",
    "    dataframe.loc[(dataframe['YearsInCurrentRole'] > 17000) & (dataframe['YearsInCurrentRole'] <= 22000), 'YearsInCurrentRole'] = 4\n",
    "    dataframe.loc[dataframe['YearsInCurrentRole'] > 22000, 'YearsInCurrentRole'] = 5\n",
    "    return dataframe\n",
    "\n",
    "YearsInCurrentRole(dataframe); "
   ]
  },
  {
   "cell_type": "code",
   "execution_count": 16,
   "id": "11b8ca94-f578-4956-b10b-978864b5af6b",
   "metadata": {
    "tags": []
   },
   "outputs": [
    {
     "data": {
      "image/png": "[encoded data removed]",
      "text/plain": [
       "<Figure size 1800x4320 with 30 Axes>"
      ]
     },
     "metadata": {
      "needs_background": "light"
     },
     "output_type": "display_data"
    }
   ],
   "source": [
    "plt.figure(figsize = (25,60))\n",
    "x = ([\"\",\"Age\", \"BusinessTravel\", \"Department\", \"DistanceFromHome\", \n",
    "      \"Education\", \"EducationField\", \"Gender\", \"JobLevel\", \"JobRole\", \"MaritalStatus\", \"MonthlyIncome\",\n",
    "      \"NumCompaniesWorked\", \"PercentSalaryHike\", \"StockOptionLevel\", \"TotalWorkingYears\", \"TrainingTimesLastYear\",\n",
    "      \"YearsAtCompany\", \"YearsSinceLastPromotion\", \"YearsWithCurrManager\", \"JobInvolvement\", \"PerformanceRating\", \n",
    "      \"EnvironmentSatisfaction\", \"JobSatisfaction\", \"WorkLifeBalance\",\"OverTime\",\"RelationshipSatisfaction\",\n",
    "      \"YearsInCurrentRole\",\"DailyRate\",\"HourlyRate\",\"MonthlyRate\"])\n",
    "for i in range(1,31):\n",
    "    plt.subplot(10,3,i)\n",
    "    sns.countplot(x = x[i], data=dataframe, hue=\"Attrition\") #hue : names of variables in data or vector data\n",
    "    \n",
    "plt.show()"
   ]
  },
  {
   "cell_type": "markdown",
   "id": "b02855b5-2122-4eaf-a84d-70c98c9ab0c1",
   "metadata": {},
   "source": [
    "**Kami memvisualisasikan lebih dalam atrisi pada beberapa kolom seperti jenis kelamin, usia, departemen, dan role pekerjaan**"
   ]
  },
  {
   "cell_type": "markdown",
   "id": "e3ba24fd",
   "metadata": {
    "papermill": {
     "duration": 0.143773,
     "end_time": "2021-10-17T17:29:02.678031",
     "exception": false,
     "start_time": "2021-10-17T17:29:02.534258",
     "status": "completed"
    },
    "tags": []
   },
   "source": [
    "**Visualisasi tingkat atrisi karyawan berdasarkan jenis kelamin**"
   ]
  },
  {
   "cell_type": "code",
   "execution_count": 17,
   "id": "5f9bc87f-2a43-4c68-9cd7-165f1c73eb66",
   "metadata": {},
   "outputs": [
    {
     "data": {
      "text/html": [
       "<div>\n",
       "<style scoped>\n",
       "    .dataframe tbody tr th:only-of-type {\n",
       "        vertical-align: middle;\n",
       "    }\n",
       "\n",
       "    .dataframe tbody tr th {\n",
       "        vertical-align: top;\n",
       "    }\n",
       "\n",
       "    .dataframe thead th {\n",
       "        text-align: right;\n",
       "    }\n",
       "</style>\n",
       "<table border=\"1\" class=\"dataframe\">\n",
       "  <thead>\n",
       "    <tr style=\"text-align: right;\">\n",
       "      <th>Attrition</th>\n",
       "      <th>No</th>\n",
       "      <th>Yes</th>\n",
       "    </tr>\n",
       "    <tr>\n",
       "      <th>Gender</th>\n",
       "      <th></th>\n",
       "      <th></th>\n",
       "    </tr>\n",
       "  </thead>\n",
       "  <tbody>\n",
       "    <tr>\n",
       "      <th>Female</th>\n",
       "      <td>501</td>\n",
       "      <td>87</td>\n",
       "    </tr>\n",
       "    <tr>\n",
       "      <th>Male</th>\n",
       "      <td>732</td>\n",
       "      <td>150</td>\n",
       "    </tr>\n",
       "  </tbody>\n",
       "</table>\n",
       "</div>"
      ],
      "text/plain": [
       "Attrition   No  Yes\n",
       "Gender             \n",
       "Female     501   87\n",
       "Male       732  150"
      ]
     },
     "execution_count": 17,
     "metadata": {},
     "output_type": "execute_result"
    }
   ],
   "source": [
    "dfs = dataframe.groupby(['Attrition', 'Gender']).size().reset_index()\n",
    "df_plot_Gen = dataframe.groupby(['Attrition', 'Gender']).size().reset_index().pivot(columns = 'Attrition', index = 'Gender', values = 0)\n",
    "df_plot_Gen"
   ]
  },
  {
   "cell_type": "code",
   "execution_count": 18,
   "id": "1ffba04a-7752-4a5b-91a0-553fa0ae57c2",
   "metadata": {},
   "outputs": [
    {
     "data": {
      "text/html": [
       "<div>\n",
       "<style scoped>\n",
       "    .dataframe tbody tr th:only-of-type {\n",
       "        vertical-align: middle;\n",
       "    }\n",
       "\n",
       "    .dataframe tbody tr th {\n",
       "        vertical-align: top;\n",
       "    }\n",
       "\n",
       "    .dataframe thead th {\n",
       "        text-align: right;\n",
       "    }\n",
       "</style>\n",
       "<table border=\"1\" class=\"dataframe\">\n",
       "  <thead>\n",
       "    <tr style=\"text-align: right;\">\n",
       "      <th>Attrition</th>\n",
       "      <th>Attrition No</th>\n",
       "      <th>Attrition Yes</th>\n",
       "    </tr>\n",
       "    <tr>\n",
       "      <th>Gender</th>\n",
       "      <th></th>\n",
       "      <th></th>\n",
       "    </tr>\n",
       "  </thead>\n",
       "  <tbody>\n",
       "    <tr>\n",
       "      <th>Female</th>\n",
       "      <td>85.204082</td>\n",
       "      <td>14.795918</td>\n",
       "    </tr>\n",
       "    <tr>\n",
       "      <th>Male</th>\n",
       "      <td>82.993197</td>\n",
       "      <td>17.006803</td>\n",
       "    </tr>\n",
       "  </tbody>\n",
       "</table>\n",
       "</div>"
      ],
      "text/plain": [
       "Attrition  Attrition No  Attrition Yes\n",
       "Gender                                \n",
       "Female        85.204082      14.795918\n",
       "Male          82.993197      17.006803"
      ]
     },
     "execution_count": 18,
     "metadata": {},
     "output_type": "execute_result"
    }
   ],
   "source": [
    "df_plot_Gen['Total Employee'] = df_plot_Gen['No'] + df_plot_Gen['Yes']\n",
    "df_plot_Gen['Attrition No'] = df_plot_Gen['No']/df_plot_Gen['Total Employee']*100.00\n",
    "df_plot_Gen['Attrition Yes'] = df_plot_Gen['Yes']/df_plot_Gen['Total Employee']*100.00\n",
    "df_plot_Gen = df_plot_Gen.drop(['No','Yes','Total Employee'], axis=1)\n",
    "df_plot_Gen"
   ]
  },
  {
   "cell_type": "code",
   "execution_count": 61,
   "id": "ada3ae3e-6a84-4c39-ac21-58573bbe32ba",
   "metadata": {},
   "outputs": [
    {
     "data": {
      "image/png": "[encoded data removed]",
      "text/plain": [
       "<Figure size 576x360 with 1 Axes>"
      ]
     },
     "metadata": {
      "needs_background": "light"
     },
     "output_type": "display_data"
    }
   ],
   "source": [
    "df_plot_Gen.plot(kind='bar',stacked=True, figsize=(8,5))\n",
    "plt.title('Attrition by Gender', fontsize = 16)\n",
    "plt.legend(loc = 'upper right')\n",
    "plt.xlim(-0.5,2)\n",
    "plt.ylim(0, 110);\n",
    "\n",
    "for i, v in enumerate(df_plot_Gen['Attrition No']):\n",
    "    plt.text(i-.1, v-50, '{:,.2f}'.format(v), color='white')\n",
    "    \n",
    "for i, v in enumerate(df_plot_Gen['Attrition Yes']):\n",
    "    plt.text(i-.1, v+75, '{:,.2f}'.format(v), color='white');"
   ]
  },
  {
   "cell_type": "markdown",
   "id": "81b0f8bc-aa7b-492d-9511-d6809a764ccc",
   "metadata": {},
   "source": [
    "* Laki-laki mempunyai tingkat atrisi yang lebih tinggi dibandingkan wanita"
   ]
  },
  {
   "cell_type": "markdown",
   "id": "389adb3d-0b1f-4e61-b546-ea32a8e1cca7",
   "metadata": {},
   "source": [
    "**Visualisasi tingkat atrisi karyawan berdasarkan kelas usia**"
   ]
  },
  {
   "cell_type": "code",
   "execution_count": 20,
   "id": "3076cb5b-e670-40c7-9d33-89f8f2eee8d7",
   "metadata": {},
   "outputs": [
    {
     "data": {
      "text/html": [
       "<div>\n",
       "<style scoped>\n",
       "    .dataframe tbody tr th:only-of-type {\n",
       "        vertical-align: middle;\n",
       "    }\n",
       "\n",
       "    .dataframe tbody tr th {\n",
       "        vertical-align: top;\n",
       "    }\n",
       "\n",
       "    .dataframe thead th {\n",
       "        text-align: right;\n",
       "    }\n",
       "</style>\n",
       "<table border=\"1\" class=\"dataframe\">\n",
       "  <thead>\n",
       "    <tr style=\"text-align: right;\">\n",
       "      <th>Attrition</th>\n",
       "      <th>No</th>\n",
       "      <th>Yes</th>\n",
       "    </tr>\n",
       "    <tr>\n",
       "      <th>Age</th>\n",
       "      <th></th>\n",
       "      <th></th>\n",
       "    </tr>\n",
       "  </thead>\n",
       "  <tbody>\n",
       "    <tr>\n",
       "      <th>1</th>\n",
       "      <td>286</td>\n",
       "      <td>100</td>\n",
       "    </tr>\n",
       "    <tr>\n",
       "      <th>2</th>\n",
       "      <td>534</td>\n",
       "      <td>85</td>\n",
       "    </tr>\n",
       "    <tr>\n",
       "      <th>3</th>\n",
       "      <td>288</td>\n",
       "      <td>34</td>\n",
       "    </tr>\n",
       "    <tr>\n",
       "      <th>4</th>\n",
       "      <td>125</td>\n",
       "      <td>18</td>\n",
       "    </tr>\n",
       "  </tbody>\n",
       "</table>\n",
       "</div>"
      ],
      "text/plain": [
       "Attrition   No  Yes\n",
       "Age                \n",
       "1          286  100\n",
       "2          534   85\n",
       "3          288   34\n",
       "4          125   18"
      ]
     },
     "execution_count": 20,
     "metadata": {},
     "output_type": "execute_result"
    }
   ],
   "source": [
    "dfs = dataframe.groupby(['Attrition', 'Age']).size().reset_index()\n",
    "df_plot_Age = dataframe.groupby(['Attrition', 'Age']).size().reset_index().pivot(columns = 'Attrition', index = 'Age', values = 0)\n",
    "df_plot_Age"
   ]
  },
  {
   "cell_type": "code",
   "execution_count": 21,
   "id": "7f76885f-9152-43c9-ba0e-0efa794dcf31",
   "metadata": {},
   "outputs": [
    {
     "data": {
      "text/html": [
       "<div>\n",
       "<style scoped>\n",
       "    .dataframe tbody tr th:only-of-type {\n",
       "        vertical-align: middle;\n",
       "    }\n",
       "\n",
       "    .dataframe tbody tr th {\n",
       "        vertical-align: top;\n",
       "    }\n",
       "\n",
       "    .dataframe thead th {\n",
       "        text-align: right;\n",
       "    }\n",
       "</style>\n",
       "<table border=\"1\" class=\"dataframe\">\n",
       "  <thead>\n",
       "    <tr style=\"text-align: right;\">\n",
       "      <th>Attrition</th>\n",
       "      <th>Attrition No</th>\n",
       "      <th>Attrition Yes</th>\n",
       "    </tr>\n",
       "    <tr>\n",
       "      <th>Age</th>\n",
       "      <th></th>\n",
       "      <th></th>\n",
       "    </tr>\n",
       "  </thead>\n",
       "  <tbody>\n",
       "    <tr>\n",
       "      <th>1</th>\n",
       "      <td>74.093264</td>\n",
       "      <td>25.906736</td>\n",
       "    </tr>\n",
       "    <tr>\n",
       "      <th>2</th>\n",
       "      <td>86.268174</td>\n",
       "      <td>13.731826</td>\n",
       "    </tr>\n",
       "    <tr>\n",
       "      <th>3</th>\n",
       "      <td>89.440994</td>\n",
       "      <td>10.559006</td>\n",
       "    </tr>\n",
       "    <tr>\n",
       "      <th>4</th>\n",
       "      <td>87.412587</td>\n",
       "      <td>12.587413</td>\n",
       "    </tr>\n",
       "  </tbody>\n",
       "</table>\n",
       "</div>"
      ],
      "text/plain": [
       "Attrition  Attrition No  Attrition Yes\n",
       "Age                                   \n",
       "1             74.093264      25.906736\n",
       "2             86.268174      13.731826\n",
       "3             89.440994      10.559006\n",
       "4             87.412587      12.587413"
      ]
     },
     "execution_count": 21,
     "metadata": {},
     "output_type": "execute_result"
    }
   ],
   "source": [
    "df_plot_Age['Total Employee'] = df_plot_Age['No'] + df_plot_Age['Yes']\n",
    "df_plot_Age['Attrition No'] = df_plot_Age['No']/df_plot_Age['Total Employee']*100.00\n",
    "df_plot_Age['Attrition Yes'] = df_plot_Age['Yes']/df_plot_Age['Total Employee']*100.00\n",
    "df_plot_Age = df_plot_Age.drop(['No','Yes','Total Employee'], axis=1)\n",
    "df_plot_Age"
   ]
  },
  {
   "cell_type": "code",
   "execution_count": 22,
   "id": "9e78bb0a-8074-4e55-adfa-782f063494a0",
   "metadata": {},
   "outputs": [
    {
     "data": {
      "image/png": "[encoded data removed]",
      "text/plain": [
       "<Figure size 576x360 with 1 Axes>"
      ]
     },
     "metadata": {
      "needs_background": "light"
     },
     "output_type": "display_data"
    }
   ],
   "source": [
    "df_plot_Age.plot(kind='bar',stacked=True, figsize=(8,5))\n",
    "plt.title('Percentage of Attrition Based on Age Class', fontsize = 16)\n",
    "plt.legend(loc = 'upper right')\n",
    "plt.xlim(-0.5,5)\n",
    "plt.ylim(0, 110);"
   ]
  },
  {
   "cell_type": "markdown",
   "id": "d3bc0355-eb16-4f3a-a878-699b352596dc",
   "metadata": {},
   "source": [
    "* Kelompok umur 1 (rentang usia diantara 18 - 30 tahun) mempunyai tingkat atrisi paling tinggi dibandingkan kelas umur lainnya"
   ]
  },
  {
   "cell_type": "markdown",
   "id": "3a7da894-a118-4e18-b65b-04d84804c646",
   "metadata": {},
   "source": [
    "**Visualisasi tingkat atrisi karyawan berdasarkan departement**"
   ]
  },
  {
   "cell_type": "code",
   "execution_count": 23,
   "id": "777a0aba-c64b-423c-9e42-ca86599f45de",
   "metadata": {},
   "outputs": [
    {
     "data": {
      "text/html": [
       "<div>\n",
       "<style scoped>\n",
       "    .dataframe tbody tr th:only-of-type {\n",
       "        vertical-align: middle;\n",
       "    }\n",
       "\n",
       "    .dataframe tbody tr th {\n",
       "        vertical-align: top;\n",
       "    }\n",
       "\n",
       "    .dataframe thead th {\n",
       "        text-align: right;\n",
       "    }\n",
       "</style>\n",
       "<table border=\"1\" class=\"dataframe\">\n",
       "  <thead>\n",
       "    <tr style=\"text-align: right;\">\n",
       "      <th>Attrition</th>\n",
       "      <th>No</th>\n",
       "      <th>Yes</th>\n",
       "    </tr>\n",
       "    <tr>\n",
       "      <th>Department</th>\n",
       "      <th></th>\n",
       "      <th></th>\n",
       "    </tr>\n",
       "  </thead>\n",
       "  <tbody>\n",
       "    <tr>\n",
       "      <th>Human Resources</th>\n",
       "      <td>51</td>\n",
       "      <td>12</td>\n",
       "    </tr>\n",
       "    <tr>\n",
       "      <th>Research &amp; Development</th>\n",
       "      <td>828</td>\n",
       "      <td>133</td>\n",
       "    </tr>\n",
       "    <tr>\n",
       "      <th>Sales</th>\n",
       "      <td>354</td>\n",
       "      <td>92</td>\n",
       "    </tr>\n",
       "  </tbody>\n",
       "</table>\n",
       "</div>"
      ],
      "text/plain": [
       "Attrition                No  Yes\n",
       "Department                      \n",
       "Human Resources          51   12\n",
       "Research & Development  828  133\n",
       "Sales                   354   92"
      ]
     },
     "execution_count": 23,
     "metadata": {},
     "output_type": "execute_result"
    }
   ],
   "source": [
    "dfs = dataframe.groupby(['Attrition', 'Department']).size().reset_index()\n",
    "df_plot_Dept = dataframe.groupby(['Attrition', 'Department']).size().reset_index().pivot(columns = 'Attrition', index = 'Department', values = 0)\n",
    "df_plot_Dept"
   ]
  },
  {
   "cell_type": "code",
   "execution_count": 24,
   "id": "07b2c4b1-5baa-4d2c-882a-93063b0a2e90",
   "metadata": {},
   "outputs": [
    {
     "data": {
      "text/html": [
       "<div>\n",
       "<style scoped>\n",
       "    .dataframe tbody tr th:only-of-type {\n",
       "        vertical-align: middle;\n",
       "    }\n",
       "\n",
       "    .dataframe tbody tr th {\n",
       "        vertical-align: top;\n",
       "    }\n",
       "\n",
       "    .dataframe thead th {\n",
       "        text-align: right;\n",
       "    }\n",
       "</style>\n",
       "<table border=\"1\" class=\"dataframe\">\n",
       "  <thead>\n",
       "    <tr style=\"text-align: right;\">\n",
       "      <th>Attrition</th>\n",
       "      <th>Attrition No</th>\n",
       "      <th>Attrition Yes</th>\n",
       "    </tr>\n",
       "    <tr>\n",
       "      <th>Department</th>\n",
       "      <th></th>\n",
       "      <th></th>\n",
       "    </tr>\n",
       "  </thead>\n",
       "  <tbody>\n",
       "    <tr>\n",
       "      <th>Human Resources</th>\n",
       "      <td>80.952381</td>\n",
       "      <td>19.047619</td>\n",
       "    </tr>\n",
       "    <tr>\n",
       "      <th>Research &amp; Development</th>\n",
       "      <td>86.160250</td>\n",
       "      <td>13.839750</td>\n",
       "    </tr>\n",
       "    <tr>\n",
       "      <th>Sales</th>\n",
       "      <td>79.372197</td>\n",
       "      <td>20.627803</td>\n",
       "    </tr>\n",
       "  </tbody>\n",
       "</table>\n",
       "</div>"
      ],
      "text/plain": [
       "Attrition               Attrition No  Attrition Yes\n",
       "Department                                         \n",
       "Human Resources            80.952381      19.047619\n",
       "Research & Development     86.160250      13.839750\n",
       "Sales                      79.372197      20.627803"
      ]
     },
     "execution_count": 24,
     "metadata": {},
     "output_type": "execute_result"
    }
   ],
   "source": [
    "df_plot_Dept['Total Employee'] = df_plot_Dept['No'] + df_plot_Dept['Yes']\n",
    "df_plot_Dept['Attrition No'] = df_plot_Dept['No']/df_plot_Dept['Total Employee']*100.00\n",
    "df_plot_Dept['Attrition Yes'] = df_plot_Dept['Yes']/df_plot_Dept['Total Employee']*100.00\n",
    "df_plot_Dept = df_plot_Dept.drop(['No','Yes','Total Employee'], axis=1)\n",
    "df_plot_Dept"
   ]
  },
  {
   "cell_type": "code",
   "execution_count": 25,
   "id": "db3dc346-c917-465d-afae-c5acd87bc2f8",
   "metadata": {},
   "outputs": [
    {
     "data": {
      "image/png": "[encoded data removed]",
      "text/plain": [
       "<Figure size 576x360 with 1 Axes>"
      ]
     },
     "metadata": {
      "needs_background": "light"
     },
     "output_type": "display_data"
    }
   ],
   "source": [
    "df_plot_Dept.plot(kind='bar',stacked=True, figsize=(8,5))\n",
    "plt.title('Percentage of Attrition Based on Department', fontsize = 16)\n",
    "plt.legend(loc = 'upper right')\n",
    "plt.xlim(-0.5,3.3)\n",
    "plt.ylim(0, 110);"
   ]
  },
  {
   "cell_type": "markdown",
   "id": "9c2c92d4-34d6-446d-b6ee-ddbe595c3d3c",
   "metadata": {},
   "source": [
    "* Department sales memiliki tingkat atrisi lebih tinggi dibandingkan Human Resource dan Research & Development"
   ]
  },
  {
   "cell_type": "markdown",
   "id": "4f5da19e-be3b-4d66-accc-241d98f8365e",
   "metadata": {},
   "source": [
    "**Visualisasi tingkat atrisi karyawan berdasarkan role pekerjaan**"
   ]
  },
  {
   "cell_type": "code",
   "execution_count": 26,
   "id": "e54beca0-7e21-4fd7-af0d-eb790a6f7d15",
   "metadata": {},
   "outputs": [
    {
     "data": {
      "text/html": [
       "<div>\n",
       "<style scoped>\n",
       "    .dataframe tbody tr th:only-of-type {\n",
       "        vertical-align: middle;\n",
       "    }\n",
       "\n",
       "    .dataframe tbody tr th {\n",
       "        vertical-align: top;\n",
       "    }\n",
       "\n",
       "    .dataframe thead th {\n",
       "        text-align: right;\n",
       "    }\n",
       "</style>\n",
       "<table border=\"1\" class=\"dataframe\">\n",
       "  <thead>\n",
       "    <tr style=\"text-align: right;\">\n",
       "      <th>Attrition</th>\n",
       "      <th>No</th>\n",
       "      <th>Yes</th>\n",
       "    </tr>\n",
       "    <tr>\n",
       "      <th>JobRole</th>\n",
       "      <th></th>\n",
       "      <th></th>\n",
       "    </tr>\n",
       "  </thead>\n",
       "  <tbody>\n",
       "    <tr>\n",
       "      <th>Healthcare Representative</th>\n",
       "      <td>122</td>\n",
       "      <td>9</td>\n",
       "    </tr>\n",
       "    <tr>\n",
       "      <th>Human Resources</th>\n",
       "      <td>40</td>\n",
       "      <td>12</td>\n",
       "    </tr>\n",
       "    <tr>\n",
       "      <th>Laboratory Technician</th>\n",
       "      <td>197</td>\n",
       "      <td>62</td>\n",
       "    </tr>\n",
       "    <tr>\n",
       "      <th>Manager</th>\n",
       "      <td>97</td>\n",
       "      <td>5</td>\n",
       "    </tr>\n",
       "    <tr>\n",
       "      <th>Manufacturing Director</th>\n",
       "      <td>135</td>\n",
       "      <td>10</td>\n",
       "    </tr>\n",
       "    <tr>\n",
       "      <th>Research Director</th>\n",
       "      <td>78</td>\n",
       "      <td>2</td>\n",
       "    </tr>\n",
       "    <tr>\n",
       "      <th>Research Scientist</th>\n",
       "      <td>245</td>\n",
       "      <td>47</td>\n",
       "    </tr>\n",
       "    <tr>\n",
       "      <th>Sales Executive</th>\n",
       "      <td>269</td>\n",
       "      <td>57</td>\n",
       "    </tr>\n",
       "    <tr>\n",
       "      <th>Sales Representative</th>\n",
       "      <td>50</td>\n",
       "      <td>33</td>\n",
       "    </tr>\n",
       "  </tbody>\n",
       "</table>\n",
       "</div>"
      ],
      "text/plain": [
       "Attrition                   No  Yes\n",
       "JobRole                            \n",
       "Healthcare Representative  122    9\n",
       "Human Resources             40   12\n",
       "Laboratory Technician      197   62\n",
       "Manager                     97    5\n",
       "Manufacturing Director     135   10\n",
       "Research Director           78    2\n",
       "Research Scientist         245   47\n",
       "Sales Executive            269   57\n",
       "Sales Representative        50   33"
      ]
     },
     "execution_count": 26,
     "metadata": {},
     "output_type": "execute_result"
    }
   ],
   "source": [
    "dfs = dataframe.groupby(['Attrition', 'JobRole']).size().reset_index()\n",
    "df_plot_Job = df.groupby(['Attrition', 'JobRole']).size().reset_index().pivot(columns = 'Attrition', index = 'JobRole', values = 0)\n",
    "df_plot_Job"
   ]
  },
  {
   "cell_type": "code",
   "execution_count": 27,
   "id": "cd6851c6-f871-464e-95e0-0fec49cc32f6",
   "metadata": {},
   "outputs": [
    {
     "data": {
      "text/html": [
       "<div>\n",
       "<style scoped>\n",
       "    .dataframe tbody tr th:only-of-type {\n",
       "        vertical-align: middle;\n",
       "    }\n",
       "\n",
       "    .dataframe tbody tr th {\n",
       "        vertical-align: top;\n",
       "    }\n",
       "\n",
       "    .dataframe thead th {\n",
       "        text-align: right;\n",
       "    }\n",
       "</style>\n",
       "<table border=\"1\" class=\"dataframe\">\n",
       "  <thead>\n",
       "    <tr style=\"text-align: right;\">\n",
       "      <th>Attrition</th>\n",
       "      <th>Attrition No</th>\n",
       "      <th>Attrition Yes</th>\n",
       "    </tr>\n",
       "    <tr>\n",
       "      <th>JobRole</th>\n",
       "      <th></th>\n",
       "      <th></th>\n",
       "    </tr>\n",
       "  </thead>\n",
       "  <tbody>\n",
       "    <tr>\n",
       "      <th>Healthcare Representative</th>\n",
       "      <td>93.129771</td>\n",
       "      <td>6.870229</td>\n",
       "    </tr>\n",
       "    <tr>\n",
       "      <th>Human Resources</th>\n",
       "      <td>76.923077</td>\n",
       "      <td>23.076923</td>\n",
       "    </tr>\n",
       "    <tr>\n",
       "      <th>Laboratory Technician</th>\n",
       "      <td>76.061776</td>\n",
       "      <td>23.938224</td>\n",
       "    </tr>\n",
       "    <tr>\n",
       "      <th>Manager</th>\n",
       "      <td>95.098039</td>\n",
       "      <td>4.901961</td>\n",
       "    </tr>\n",
       "    <tr>\n",
       "      <th>Manufacturing Director</th>\n",
       "      <td>93.103448</td>\n",
       "      <td>6.896552</td>\n",
       "    </tr>\n",
       "    <tr>\n",
       "      <th>Research Director</th>\n",
       "      <td>97.500000</td>\n",
       "      <td>2.500000</td>\n",
       "    </tr>\n",
       "    <tr>\n",
       "      <th>Research Scientist</th>\n",
       "      <td>83.904110</td>\n",
       "      <td>16.095890</td>\n",
       "    </tr>\n",
       "    <tr>\n",
       "      <th>Sales Executive</th>\n",
       "      <td>82.515337</td>\n",
       "      <td>17.484663</td>\n",
       "    </tr>\n",
       "    <tr>\n",
       "      <th>Sales Representative</th>\n",
       "      <td>60.240964</td>\n",
       "      <td>39.759036</td>\n",
       "    </tr>\n",
       "  </tbody>\n",
       "</table>\n",
       "</div>"
      ],
      "text/plain": [
       "Attrition                  Attrition No  Attrition Yes\n",
       "JobRole                                               \n",
       "Healthcare Representative     93.129771       6.870229\n",
       "Human Resources               76.923077      23.076923\n",
       "Laboratory Technician         76.061776      23.938224\n",
       "Manager                       95.098039       4.901961\n",
       "Manufacturing Director        93.103448       6.896552\n",
       "Research Director             97.500000       2.500000\n",
       "Research Scientist            83.904110      16.095890\n",
       "Sales Executive               82.515337      17.484663\n",
       "Sales Representative          60.240964      39.759036"
      ]
     },
     "execution_count": 27,
     "metadata": {},
     "output_type": "execute_result"
    }
   ],
   "source": [
    "df_plot_Job['Total Employee'] = df_plot_Job['No'] + df_plot_Job['Yes']\n",
    "df_plot_Job['Attrition No'] = df_plot_Job['No']/df_plot_Job['Total Employee']*100.00\n",
    "df_plot_Job['Attrition Yes'] = df_plot_Job['Yes']/df_plot_Job['Total Employee']*100.00\n",
    "df_plot_Job = df_plot_Job.drop(['No','Yes','Total Employee'], axis=1)\n",
    "df_plot_Job"
   ]
  },
  {
   "cell_type": "code",
   "execution_count": 28,
   "id": "389fe941-b658-45c2-9b07-64609e719998",
   "metadata": {},
   "outputs": [
    {
     "data": {
      "image/png": "[encoded data removed]",
      "text/plain": [
       "<Figure size 1080x720 with 1 Axes>"
      ]
     },
     "metadata": {
      "needs_background": "light"
     },
     "output_type": "display_data"
    }
   ],
   "source": [
    "df_plot_Job.plot(kind='bar',stacked=True, figsize=(15,10))\n",
    "plt.title('Percentage of Attrition Based on Job Role', fontsize = 16)\n",
    "plt.legend(loc = 'upper right')\n",
    "plt.xlim(-0.5,9.5)\n",
    "plt.ylim(0, 110);"
   ]
  },
  {
   "cell_type": "markdown",
   "id": "72df178b-3a54-4ad7-b581-dc79b24412c8",
   "metadata": {},
   "source": [
    "* Role pekerjaan Sales representative mempunyai tingkat atrisi tertinggi dibandingkan role pekerjaan yang lainnya"
   ]
  },
  {
   "cell_type": "markdown",
   "id": "58fa1767",
   "metadata": {
    "papermill": {
     "duration": 0.152052,
     "end_time": "2021-10-17T17:29:09.747399",
     "exception": false,
     "start_time": "2021-10-17T17:29:09.595347",
     "status": "completed"
    },
    "tags": []
   },
   "source": [
    "## 3. Prepare Data"
   ]
  },
  {
   "cell_type": "markdown",
   "id": "c67ea4f0",
   "metadata": {
    "papermill": {
     "duration": 0.152958,
     "end_time": "2021-10-17T17:29:10.051942",
     "exception": false,
     "start_time": "2021-10-17T17:29:09.898984",
     "status": "completed"
    },
    "tags": []
   },
   "source": [
    "### a. Data cleaning "
   ]
  },
  {
   "cell_type": "markdown",
   "id": "063804c8",
   "metadata": {
    "papermill": {
     "duration": 0.151079,
     "end_time": "2021-10-17T17:29:10.354762",
     "exception": false,
     "start_time": "2021-10-17T17:29:10.203683",
     "status": "completed"
    },
    "tags": []
   },
   "source": [
    "#### I. Missing values"
   ]
  },
  {
   "cell_type": "code",
   "execution_count": 29,
   "id": "48e04037",
   "metadata": {
    "papermill": {
     "duration": 0.163217,
     "end_time": "2021-10-17T17:29:10.669481",
     "exception": false,
     "start_time": "2021-10-17T17:29:10.506264",
     "status": "completed"
    },
    "tags": []
   },
   "outputs": [
    {
     "data": {
      "text/plain": [
       "Age                         0\n",
       "Attrition                   0\n",
       "BusinessTravel              0\n",
       "DailyRate                   0\n",
       "Department                  0\n",
       "DistanceFromHome            0\n",
       "Education                   0\n",
       "EducationField              0\n",
       "EmployeeCount               0\n",
       "EmployeeNumber              0\n",
       "EnvironmentSatisfaction     0\n",
       "Gender                      0\n",
       "HourlyRate                  0\n",
       "JobInvolvement              0\n",
       "JobLevel                    0\n",
       "JobRole                     0\n",
       "JobSatisfaction             0\n",
       "MaritalStatus               0\n",
       "MonthlyIncome               0\n",
       "MonthlyRate                 0\n",
       "NumCompaniesWorked          0\n",
       "Over18                      0\n",
       "OverTime                    0\n",
       "PercentSalaryHike           0\n",
       "PerformanceRating           0\n",
       "RelationshipSatisfaction    0\n",
       "StandardHours               0\n",
       "StockOptionLevel            0\n",
       "TotalWorkingYears           0\n",
       "TrainingTimesLastYear       0\n",
       "WorkLifeBalance             0\n",
       "YearsAtCompany              0\n",
       "YearsInCurrentRole          0\n",
       "YearsSinceLastPromotion     0\n",
       "YearsWithCurrManager        0\n",
       "dtype: int64"
      ]
     },
     "execution_count": 29,
     "metadata": {},
     "output_type": "execute_result"
    }
   ],
   "source": [
    "df.isna().sum()"
   ]
  },
  {
   "cell_type": "markdown",
   "id": "95f44c7a",
   "metadata": {
    "papermill": {
     "duration": 0.15157,
     "end_time": "2021-10-17T17:29:10.972956",
     "exception": false,
     "start_time": "2021-10-17T17:29:10.821386",
     "status": "completed"
    },
    "tags": []
   },
   "source": [
    "Tidak ada baris yang hilang atau bernilai null"
   ]
  },
  {
   "cell_type": "markdown",
   "id": "71d618f1-c2cd-4c77-97ef-2895646728a7",
   "metadata": {},
   "source": [
    "#### II. Duplicated Data"
   ]
  },
  {
   "cell_type": "code",
   "execution_count": 30,
   "id": "ad1d8983-b49d-4a0e-a5f7-fc6f3e42add8",
   "metadata": {},
   "outputs": [
    {
     "data": {
      "text/plain": [
       "0"
      ]
     },
     "execution_count": 30,
     "metadata": {},
     "output_type": "execute_result"
    }
   ],
   "source": [
    "df.duplicated().sum()"
   ]
  },
  {
   "cell_type": "markdown",
   "id": "cc4499db-3796-4540-ac48-fda75286cf49",
   "metadata": {},
   "source": [
    "Tidak ada baris atau kolom yang mempunyai duplikat. Dataset ini sudah cukup bersih"
   ]
  },
  {
   "cell_type": "markdown",
   "id": "5459810c",
   "metadata": {
    "papermill": {
     "duration": 0.152472,
     "end_time": "2021-10-17T17:29:11.280824",
     "exception": false,
     "start_time": "2021-10-17T17:29:11.128352",
     "status": "completed"
    },
    "tags": []
   },
   "source": [
    "#### III. Outliers"
   ]
  },
  {
   "cell_type": "markdown",
   "id": "9368a7e6",
   "metadata": {
    "papermill": {
     "duration": 0.15164,
     "end_time": "2021-10-17T17:29:11.585277",
     "exception": false,
     "start_time": "2021-10-17T17:29:11.433637",
     "status": "completed"
    },
    "tags": []
   },
   "source": [
    "**Cek nilai outlier**"
   ]
  },
  {
   "cell_type": "code",
   "execution_count": 31,
   "id": "cfc9b9b6",
   "metadata": {
    "papermill": {
     "duration": 0.162176,
     "end_time": "2021-10-17T17:29:11.899823",
     "exception": false,
     "start_time": "2021-10-17T17:29:11.737647",
     "status": "completed"
    },
    "tags": []
   },
   "outputs": [],
   "source": [
    "def qr_outliers(col):\n",
    "    outliers = []\n",
    "    \n",
    "    q1 = col.quantile(0.25)\n",
    "    q3 = col.quantile(0.75)\n",
    "    inter_qr = q3 - q1\n",
    "    lower_limit = q1 - 1.5 * inter_qr\n",
    "    upper_limit = q3 + 1.5 * inter_qr\n",
    "    for val in col:\n",
    "        if val > upper_limit or val < lower_limit:\n",
    "            outliers.append(val)\n",
    "    return outliers"
   ]
  },
  {
   "cell_type": "code",
   "execution_count": 32,
   "id": "8c844cbd",
   "metadata": {
    "papermill": {
     "duration": 0.231087,
     "end_time": "2021-10-17T17:29:12.284770",
     "exception": false,
     "start_time": "2021-10-17T17:29:12.053683",
     "status": "completed"
    },
    "tags": []
   },
   "outputs": [
    {
     "name": "stdout",
     "output_type": "stream",
     "text": [
      "MonthlyIncome : [19094, 18947, 19545, 18740, 18844, 18172, 17328, 16959, 19537, 17181, 19926, 19033, 18722, 19999, 16792, 19232, 19517, 19068, 19202, 19436, 16872, 19045, 19144, 17584, 18665, 17068, 19272, 18300, 16659, 19406, 19197, 19566, 18041, 17046, 17861, 16835, 16595, 19502, 18200, 16627, 19513, 19141, 19189, 16856, 19859, 18430, 17639, 16752, 19246, 17159, 17924, 17099, 17444, 17399, 19419, 18303, 19973, 19845, 17650, 19237, 19627, 16756, 17665, 16885, 17465, 19626, 19943, 18606, 17048, 17856, 19081, 17779, 19740, 18711, 18265, 18213, 18824, 18789, 19847, 19190, 18061, 17123, 16880, 17861, 19187, 19717, 16799, 17328, 19701, 17169, 16598, 17007, 16606, 19586, 19331, 19613, 17567, 19049, 19658, 17426, 17603, 16704, 19833, 19038, 19328, 19392, 19665, 16823, 17174, 17875, 19161, 19636, 19431, 18880]\n",
      "NumCompaniesWorked : [9, 9, 9, 9, 9, 9, 9, 9, 9, 9, 9, 9, 9, 9, 9, 9, 9, 9, 9, 9, 9, 9, 9, 9, 9, 9, 9, 9, 9, 9, 9, 9, 9, 9, 9, 9, 9, 9, 9, 9, 9, 9, 9, 9, 9, 9, 9, 9, 9, 9, 9, 9]\n",
      "PerformanceRating : [4, 4, 4, 4, 4, 4, 4, 4, 4, 4, 4, 4, 4, 4, 4, 4, 4, 4, 4, 4, 4, 4, 4, 4, 4, 4, 4, 4, 4, 4, 4, 4, 4, 4, 4, 4, 4, 4, 4, 4, 4, 4, 4, 4, 4, 4, 4, 4, 4, 4, 4, 4, 4, 4, 4, 4, 4, 4, 4, 4, 4, 4, 4, 4, 4, 4, 4, 4, 4, 4, 4, 4, 4, 4, 4, 4, 4, 4, 4, 4, 4, 4, 4, 4, 4, 4, 4, 4, 4, 4, 4, 4, 4, 4, 4, 4, 4, 4, 4, 4, 4, 4, 4, 4, 4, 4, 4, 4, 4, 4, 4, 4, 4, 4, 4, 4, 4, 4, 4, 4, 4, 4, 4, 4, 4, 4, 4, 4, 4, 4, 4, 4, 4, 4, 4, 4, 4, 4, 4, 4, 4, 4, 4, 4, 4, 4, 4, 4, 4, 4, 4, 4, 4, 4, 4, 4, 4, 4, 4, 4, 4, 4, 4, 4, 4, 4, 4, 4, 4, 4, 4, 4, 4, 4, 4, 4, 4, 4, 4, 4, 4, 4, 4, 4, 4, 4, 4, 4, 4, 4, 4, 4, 4, 4, 4, 4, 4, 4, 4, 4, 4, 4, 4, 4, 4, 4, 4, 4, 4, 4, 4, 4, 4, 4, 4, 4, 4, 4, 4, 4, 4, 4, 4, 4, 4, 4]\n",
      "StockOptionLevel : [3, 3, 3, 3, 3, 3, 3, 3, 3, 3, 3, 3, 3, 3, 3, 3, 3, 3, 3, 3, 3, 3, 3, 3, 3, 3, 3, 3, 3, 3, 3, 3, 3, 3, 3, 3, 3, 3, 3, 3, 3, 3, 3, 3, 3, 3, 3, 3, 3, 3, 3, 3, 3, 3, 3, 3, 3, 3, 3, 3, 3, 3, 3, 3, 3, 3, 3, 3, 3, 3, 3, 3, 3, 3, 3, 3, 3, 3, 3, 3, 3, 3, 3, 3, 3]\n",
      "TotalWorkingYears : [31, 29, 37, 38, 30, 40, 36, 34, 32, 33, 37, 30, 36, 31, 33, 32, 37, 31, 32, 32, 30, 34, 30, 40, 29, 35, 31, 33, 31, 29, 32, 30, 33, 30, 29, 31, 32, 33, 36, 34, 31, 36, 33, 31, 29, 33, 29, 32, 31, 35, 29, 32, 34, 36, 32, 30, 36, 29, 34, 37, 29, 29, 35]\n",
      "TrainingTimesLastYear : [0, 5, 5, 5, 6, 5, 5, 5, 6, 6, 0, 0, 0, 5, 0, 5, 5, 5, 6, 6, 5, 0, 6, 5, 5, 0, 5, 5, 6, 5, 5, 5, 0, 5, 5, 5, 5, 6, 6, 5, 5, 5, 5, 0, 0, 5, 5, 5, 6, 6, 5, 0, 5, 0, 5, 5, 0, 6, 0, 5, 5, 6, 6, 5, 6, 5, 0, 5, 5, 5, 5, 0, 6, 5, 5, 5, 5, 6, 5, 5, 6, 5, 5, 5, 0, 5, 0, 5, 5, 6, 5, 6, 5, 0, 5, 5, 0, 6, 6, 5, 6, 0, 5, 0, 6, 6, 6, 6, 5, 5, 0, 5, 0, 0, 6, 0, 6, 5, 6, 5, 5, 0, 5, 6, 6, 5, 5, 0, 0, 6, 0, 0, 5, 0, 5, 6, 5, 5, 6, 6, 5, 5, 5, 5, 5, 6, 5, 6, 6, 0, 6, 6, 5, 5, 0, 0, 6, 6, 0, 5, 0, 0, 0, 0, 0, 5, 5, 6, 5, 5, 0, 5, 5, 0, 5, 5, 6, 5, 5, 5, 6, 5, 5, 5, 0, 0, 5, 5, 5, 5, 6, 0, 0, 6, 6, 6, 6, 5, 5, 5, 6, 5, 0, 5, 5, 6, 5, 6, 6, 5, 6, 6, 5, 0, 5, 5, 5, 5, 5, 0, 0, 0, 6, 5, 6, 6, 5, 6, 0, 6, 6, 5, 6, 6, 5, 5, 5, 0]\n",
      "YearsAtCompany : [25, 22, 22, 27, 21, 22, 37, 25, 20, 40, 20, 24, 20, 24, 33, 20, 19, 22, 33, 24, 19, 21, 20, 36, 20, 20, 22, 24, 21, 21, 25, 21, 29, 20, 27, 20, 31, 32, 20, 20, 21, 22, 22, 34, 24, 26, 31, 20, 31, 26, 19, 21, 21, 32, 21, 19, 20, 22, 20, 21, 26, 20, 22, 24, 33, 29, 25, 21, 19, 19, 20, 19, 33, 19, 19, 20, 20, 20, 20, 20, 32, 20, 21, 33, 36, 26, 30, 22, 23, 23, 21, 21, 22, 22, 19, 22, 19, 22, 20, 20, 20, 22, 20, 20]\n",
      "YearsInCurrentRole : [15, 16, 18, 15, 18, 17, 16, 15, 16, 15, 16, 16, 15, 16, 17, 15, 15, 15, 17, 17, 16]\n",
      "YearsSinceLastPromotion : [8, 15, 8, 8, 9, 13, 12, 10, 11, 9, 12, 15, 15, 15, 9, 11, 11, 9, 12, 11, 15, 11, 10, 9, 11, 9, 8, 11, 11, 8, 13, 9, 9, 12, 10, 11, 15, 13, 9, 11, 10, 8, 8, 11, 9, 11, 12, 11, 14, 13, 14, 8, 11, 15, 10, 11, 11, 15, 11, 13, 11, 13, 15, 8, 13, 15, 11, 14, 15, 15, 9, 11, 9, 8, 9, 15, 11, 12, 9, 8, 10, 14, 8, 13, 13, 12, 14, 8, 8, 8, 14, 14, 8, 12, 13, 14, 14, 12, 11, 8, 11, 9, 12, 8, 9, 11, 9]\n",
      "YearsWithCurrManager : [17, 15, 15, 15, 15, 17, 16, 17, 15, 17, 17, 17, 17, 16]\n"
     ]
    }
   ],
   "source": [
    "col_outliers = []\n",
    "for col in df.columns:\n",
    "    if df[col].dtype == 'O' : continue\n",
    "    else : \n",
    "        outliers = qr_outliers(df[col])\n",
    "        if outliers != []:\n",
    "            col_outliers.append(col)\n",
    "            print(col,':' ,outliers)"
   ]
  },
  {
   "cell_type": "markdown",
   "id": "a55dacb9",
   "metadata": {
    "papermill": {
     "duration": 0.153214,
     "end_time": "2021-10-17T17:29:12.591432",
     "exception": false,
     "start_time": "2021-10-17T17:29:12.438218",
     "status": "completed"
    },
    "tags": []
   },
   "source": [
    "**Cek unik value pada beberapa kolom tertentu**"
   ]
  },
  {
   "cell_type": "code",
   "execution_count": 33,
   "id": "0a07f287",
   "metadata": {
    "papermill": {
     "duration": 0.164415,
     "end_time": "2021-10-17T17:29:12.909162",
     "exception": false,
     "start_time": "2021-10-17T17:29:12.744747",
     "status": "completed"
    },
    "tags": []
   },
   "outputs": [
    {
     "name": "stdout",
     "output_type": "stream",
     "text": [
      "NumCompaniesWorked: [8 1 6 9 0 4 5 2 7 3]\n",
      "PerformanceRating: [3 4]\n",
      "StockOptionLevel: [0 1 3 2]\n"
     ]
    }
   ],
   "source": [
    "print('NumCompaniesWorked:', df.NumCompaniesWorked.unique())\n",
    "print('PerformanceRating:', df.PerformanceRating.unique())\n",
    "print('StockOptionLevel:', df.StockOptionLevel.unique())"
   ]
  },
  {
   "cell_type": "markdown",
   "id": "a57f4ff5",
   "metadata": {
    "papermill": {
     "duration": 0.154962,
     "end_time": "2021-10-17T17:29:13.218124",
     "exception": false,
     "start_time": "2021-10-17T17:29:13.063162",
     "status": "completed"
    },
    "tags": []
   },
   "source": [
    "**Handle Outlier**\n",
    "\n",
    "Karena kami memiliki solusi berbeda untuk menangani kolom konstan versus kolom dengan outlier, kami memisahkan keduanya. jadi kami menyimpan kolom konstan di constant_cols dan menyimpan kolom outlier di col_outliers."
   ]
  },
  {
   "cell_type": "code",
   "execution_count": 34,
   "id": "42b9631b",
   "metadata": {
    "papermill": {
     "duration": 0.161764,
     "end_time": "2021-10-17T17:29:13.533311",
     "exception": false,
     "start_time": "2021-10-17T17:29:13.371547",
     "status": "completed"
    },
    "tags": []
   },
   "outputs": [
    {
     "data": {
      "text/plain": [
       "['MonthlyIncome',\n",
       " 'TotalWorkingYears',\n",
       " 'TrainingTimesLastYear',\n",
       " 'YearsAtCompany',\n",
       " 'YearsInCurrentRole',\n",
       " 'YearsSinceLastPromotion',\n",
       " 'YearsWithCurrManager']"
      ]
     },
     "execution_count": 34,
     "metadata": {},
     "output_type": "execute_result"
    }
   ],
   "source": [
    "constant_cols = col_outliers[1:4]\n",
    "col_outliers[1:4] = []\n",
    "col_outliers"
   ]
  },
  {
   "cell_type": "code",
   "execution_count": 35,
   "id": "36ac42c4",
   "metadata": {
    "papermill": {
     "duration": 0.167091,
     "end_time": "2021-10-17T17:29:13.855016",
     "exception": false,
     "start_time": "2021-10-17T17:29:13.687925",
     "status": "completed"
    },
    "tags": []
   },
   "outputs": [],
   "source": [
    "def box_plot_outliers(cols, df):\n",
    "    fig, ax = plt.subplots(7,2, figsize = (8, 15))\n",
    "    \n",
    "    i = 0\n",
    "    j = 0\n",
    "    for col in cols:\n",
    "        #print(col)\n",
    "        sns.boxplot(df[col], ax = ax[i, j])\n",
    "\n",
    "        ax[i, j].tick_params(axis = 'both', which = 'major', labelsize = 8)\n",
    "        ax[i, j].set_xlabel('')\n",
    "        ax[i, j].set_ylabel(col)\n",
    "        j += 1\n",
    "\n",
    "        df.loc[df[col] > 0, col], fitted_lambda = stats.boxcox(df[df[col] > 0][col], lmbda = None)\n",
    "        sns.boxplot(df[col], ax = ax[i, j], color = '#FEE23E')\n",
    "        ax[i, j].tick_params(axis = 'both', which = 'major', labelsize = 8)\n",
    "        ax[i, j].set_xlabel('')\n",
    "        i += 1\n",
    "        j -= 1\n",
    "        \n",
    "    fig.suptitle('Before [left] and After [Right] BoxCox Transformation for Removing Outliers ', fontsize = 12)\n",
    "    fig.subplots_adjust(top = 0.98)\n",
    "    fig.tight_layout()\n",
    "    \n",
    "    plt.show()"
   ]
  },
  {
   "cell_type": "code",
   "execution_count": 36,
   "id": "fd85947e",
   "metadata": {
    "papermill": {
     "duration": 1.674474,
     "end_time": "2021-10-17T17:29:15.683628",
     "exception": false,
     "start_time": "2021-10-17T17:29:14.009154",
     "status": "completed"
    },
    "tags": []
   },
   "outputs": [
    {
     "data": {
      "image/png": "[encoded data removed]",
      "text/plain": [
       "<Figure size 576x1080 with 14 Axes>"
      ]
     },
     "metadata": {
      "needs_background": "light"
     },
     "output_type": "display_data"
    }
   ],
   "source": [
    "box_plot_outliers(col_outliers, df)"
   ]
  },
  {
   "cell_type": "markdown",
   "id": "22e824f7",
   "metadata": {
    "papermill": {
     "duration": 0.154054,
     "end_time": "2021-10-17T17:29:15.998467",
     "exception": false,
     "start_time": "2021-10-17T17:29:15.844413",
     "status": "completed"
    },
    "tags": []
   },
   "source": [
    "Boxplot biru merupakan kolom dengan outlier yang belum dibersihkan, sedangkan boxplot kuning merupakan kolom dengan outlier yang sudah dibersihkan. Dapat terlihat bahwa setelah outlier dibersihkan, distribusinya menjadi lebih baik."
   ]
  },
  {
   "cell_type": "code",
   "execution_count": 37,
   "id": "fca9fb7d",
   "metadata": {
    "papermill": {
     "duration": 0.16865,
     "end_time": "2021-10-17T17:29:16.323817",
     "exception": false,
     "start_time": "2021-10-17T17:29:16.155167",
     "status": "completed"
    },
    "tags": []
   },
   "outputs": [],
   "source": [
    "def constant_cols_outliers(cols, df):\n",
    "    fig, ax = plt.subplots(3,2, figsize = (8, 5))\n",
    "    \n",
    "    i = 0\n",
    "    j = 0\n",
    "    for col in cols:\n",
    "        #print(col)\n",
    "        \n",
    "        sns.distplot(df[col], ax = ax[i, j])\n",
    "        ax[i, j].tick_params(axis = 'both', which = 'major', labelsize = 8)\n",
    "        ax[i, j].set_xlabel('')\n",
    "        ax[i, j].set_ylabel(col)\n",
    "        j += 1\n",
    "        \n",
    "        if col == 'NumCompaniesWorked':\n",
    "            df.loc[df[col] == 9, col] = np.mean(df[col])\n",
    "        elif col == 'PerformanceRating':\n",
    "            df.loc[df[col] == 4, col] = np.mean(df[col])\n",
    "        else:\n",
    "            df.loc[df[col] == 3, col] = np.mean(df[col])\n",
    "        \n",
    "        sns.distplot(df[col], ax = ax[i, j], color = 'y')\n",
    "        ax[i, j].tick_params(axis = 'both', which = 'major', labelsize = 8)\n",
    "        ax[i, j].set_xlabel('')\n",
    "        i += 1\n",
    "        j -= 1\n",
    "        \n",
    "    fig.suptitle('Before [left] and After [Right] mean imputation for Removing Constant value Outliers ', fontsize = 12)\n",
    "    fig.subplots_adjust(top = 0.98)\n",
    "    fig.tight_layout()\n",
    "    \n",
    "    plt.show()"
   ]
  },
  {
   "cell_type": "code",
   "execution_count": 38,
   "id": "256da7cc",
   "metadata": {
    "papermill": {
     "duration": 1.536537,
     "end_time": "2021-10-17T17:29:18.015172",
     "exception": false,
     "start_time": "2021-10-17T17:29:16.478635",
     "status": "completed"
    },
    "tags": []
   },
   "outputs": [
    {
     "data": {
      "image/png": "[encoded data removed]",
      "text/plain": [
       "<Figure size 576x360 with 6 Axes>"
      ]
     },
     "metadata": {
      "needs_background": "light"
     },
     "output_type": "display_data"
    }
   ],
   "source": [
    "constant_cols_outliers(constant_cols, df)"
   ]
  },
  {
   "cell_type": "markdown",
   "id": "839ff0de",
   "metadata": {
    "papermill": {
     "duration": 0.155202,
     "end_time": "2021-10-17T17:29:18.330087",
     "exception": false,
     "start_time": "2021-10-17T17:29:18.174885",
     "status": "completed"
    },
    "tags": []
   },
   "source": [
    "#### IV. Preprocessing and Encoding Categorical Columns"
   ]
  },
  {
   "cell_type": "markdown",
   "id": "f2d6cbed",
   "metadata": {
    "papermill": {
     "duration": 0.157271,
     "end_time": "2021-10-17T17:29:18.642950",
     "exception": false,
     "start_time": "2021-10-17T17:29:18.485679",
     "status": "completed"
    },
    "tags": []
   },
   "source": [
    "Kami menggunakan label encoder untuk mengubah data kategorikal menjadi numerikal"
   ]
  },
  {
   "cell_type": "code",
   "execution_count": 39,
   "id": "7ac984e1",
   "metadata": {
    "papermill": {
     "duration": 0.175255,
     "end_time": "2021-10-17T17:29:19.295515",
     "exception": false,
     "start_time": "2021-10-17T17:29:19.120260",
     "status": "completed"
    },
    "tags": []
   },
   "outputs": [],
   "source": [
    "labelenc = LabelEncoder()\n",
    "df['Attrition'] = labelenc.fit_transform(df['Attrition'])\n",
    "df['Department'] = labelenc.fit_transform(df['Department'])\n",
    "df['EducationField'] = labelenc.fit_transform(df['EducationField'])\n",
    "df['Gender'] = labelenc.fit_transform(df['Gender'])\n",
    "df['JobRole'] = labelenc.fit_transform(df['JobRole'])\n",
    "df['MaritalStatus'] = labelenc.fit_transform(df['MaritalStatus'])\n",
    "df['BusinessTravel'] = labelenc.fit_transform(df['BusinessTravel'])\n",
    "df['OverTime'] = labelenc.fit_transform(df['OverTime'])"
   ]
  },
  {
   "cell_type": "markdown",
   "id": "da5f3e2c",
   "metadata": {
    "papermill": {
     "duration": 0.159126,
     "end_time": "2021-10-17T17:29:19.969418",
     "exception": false,
     "start_time": "2021-10-17T17:29:19.810292",
     "status": "completed"
    },
    "tags": []
   },
   "source": [
    "#### V. Removing constant columns"
   ]
  },
  {
   "cell_type": "code",
   "execution_count": 40,
   "id": "6b44741d",
   "metadata": {
    "papermill": {
     "duration": 0.167189,
     "end_time": "2021-10-17T17:29:20.614515",
     "exception": false,
     "start_time": "2021-10-17T17:29:20.447326",
     "status": "completed"
    },
    "tags": []
   },
   "outputs": [
    {
     "name": "stdout",
     "output_type": "stream",
     "text": [
      "['Y']\n",
      "[1]\n",
      "[80]\n"
     ]
    }
   ],
   "source": [
    "print(df.Over18.unique())\n",
    "print(df.EmployeeCount.unique())\n",
    "print(df.StandardHours.unique())"
   ]
  },
  {
   "cell_type": "code",
   "execution_count": 41,
   "id": "3492d4c5",
   "metadata": {
    "papermill": {
     "duration": 0.172022,
     "end_time": "2021-10-17T17:29:20.943443",
     "exception": false,
     "start_time": "2021-10-17T17:29:20.771421",
     "status": "completed"
    },
    "tags": []
   },
   "outputs": [
    {
     "data": {
      "text/plain": [
       "array([   1,    2,    4, ..., 2064, 2065, 2068], dtype=int64)"
      ]
     },
     "execution_count": 41,
     "metadata": {},
     "output_type": "execute_result"
    }
   ],
   "source": [
    "df.EmployeeNumber.unique()"
   ]
  },
  {
   "cell_type": "markdown",
   "id": "5f93c0e1",
   "metadata": {
    "papermill": {
     "duration": 0.157415,
     "end_time": "2021-10-17T17:29:21.407249",
     "exception": false,
     "start_time": "2021-10-17T17:29:21.249834",
     "status": "completed"
    },
    "tags": []
   },
   "source": [
    "Menghapus kolom yang hanya memiliki satu nilai unik, dan menghapus employee number karena tidak digunakan dalam pemodelan"
   ]
  },
  {
   "cell_type": "code",
   "execution_count": 42,
   "id": "e1bb9930",
   "metadata": {
    "papermill": {
     "duration": 0.17132,
     "end_time": "2021-10-17T17:29:21.735115",
     "exception": false,
     "start_time": "2021-10-17T17:29:21.563795",
     "status": "completed"
    },
    "tags": []
   },
   "outputs": [],
   "source": [
    "df.drop('Over18', axis = 1, inplace = True)\n",
    "df.drop('EmployeeCount', axis = 1, inplace = True)\n",
    "df.drop('StandardHours', axis = 1, inplace = True)\n",
    "df.drop('EmployeeNumber', axis = 1, inplace = True)"
   ]
  },
  {
   "cell_type": "markdown",
   "id": "347ea5f5",
   "metadata": {
    "papermill": {
     "duration": 0.158721,
     "end_time": "2021-10-17T17:29:22.058875",
     "exception": false,
     "start_time": "2021-10-17T17:29:21.900154",
     "status": "completed"
    },
    "tags": []
   },
   "source": [
    "### b. Feature Correlations"
   ]
  },
  {
   "cell_type": "code",
   "execution_count": 43,
   "id": "20d25f8b",
   "metadata": {
    "papermill": {
     "duration": 1.116298,
     "end_time": "2021-10-17T17:29:23.334414",
     "exception": false,
     "start_time": "2021-10-17T17:29:22.218116",
     "status": "completed"
    },
    "tags": []
   },
   "outputs": [
    {
     "data": {
      "image/png": "[encoded data removed]",
      "text/plain": [
       "<Figure size 1296x864 with 2 Axes>"
      ]
     },
     "metadata": {
      "needs_background": "light"
     },
     "output_type": "display_data"
    }
   ],
   "source": [
    "fig, ax = plt.subplots(1,1, figsize = (18,12))\n",
    "sns.heatmap(df.corr(), cmap = 'RdYlGn')\n",
    "plt.show()"
   ]
  },
  {
   "cell_type": "code",
   "execution_count": 44,
   "id": "9083b27d-0530-4281-b3e2-5ce1f9f35602",
   "metadata": {},
   "outputs": [
    {
     "data": {
      "text/plain": [
       "Attrition                   1.000000\n",
       "OverTime                    0.246118\n",
       "MaritalStatus               0.162070\n",
       "DistanceFromHome            0.077924\n",
       "JobRole                     0.067151\n",
       "Department                  0.063991\n",
       "NumCompaniesWorked          0.030383\n",
       "Gender                      0.029453\n",
       "EducationField              0.026846\n",
       "MonthlyRate                 0.015170\n",
       "PerformanceRating           0.002889\n",
       "BusinessTravel              0.000074\n",
       "HourlyRate                 -0.006846\n",
       "PercentSalaryHike          -0.013478\n",
       "Education                  -0.031373\n",
       "YearsSinceLastPromotion    -0.033592\n",
       "RelationshipSatisfaction   -0.045872\n",
       "TrainingTimesLastYear      -0.051867\n",
       "DailyRate                  -0.056652\n",
       "WorkLifeBalance            -0.063939\n",
       "EnvironmentSatisfaction    -0.103369\n",
       "JobSatisfaction            -0.103481\n",
       "JobInvolvement             -0.130016\n",
       "Age                        -0.159205\n",
       "YearsWithCurrManager       -0.163686\n",
       "JobLevel                   -0.169105\n",
       "YearsInCurrentRole         -0.176056\n",
       "StockOptionLevel           -0.186680\n",
       "YearsAtCompany             -0.196311\n",
       "MonthlyIncome              -0.205610\n",
       "TotalWorkingYears          -0.217033\n",
       "Name: Attrition, dtype: float64"
      ]
     },
     "execution_count": 44,
     "metadata": {},
     "output_type": "execute_result"
    }
   ],
   "source": [
    "extract_corr = df.corr()\n",
    "extract_corr['Attrition'].sort_values(ascending=False)"
   ]
  },
  {
   "cell_type": "markdown",
   "id": "c95fc1ac",
   "metadata": {
    "papermill": {
     "duration": 0.165106,
     "end_time": "2021-10-17T17:29:23.691563",
     "exception": false,
     "start_time": "2021-10-17T17:29:23.526457",
     "status": "completed"
    },
    "tags": []
   },
   "source": [
    "Dari matriks korelasi diatas, kami highlite beberapa penemuan penting, yaitu:\n",
    "- Attrition berkorelasi negatif dengan Monthly Income, total tahun kerja, StockOpsLevel, tahun di perusahaan, tahun dalam peran saat ini, tahun dengan manajer saat ini, kepuasan kerja, keterlibatan kerja, kepuasan lingkungan dan usia.\n",
    "- Ada korelasi yang tinggi antara Persen kenaikan gaji dan peringkat kinerja serta Tingkat pekerjaan dan pendapatan bulanan.\n",
    "- Tahun di perusahaan, tahun dalam peran saat ini, tahun sejak promosi terakhir, tahun dengan manajer saat ini, total tahun kerja, pendapatan bulanan dan tingkat pekerjaan juga berkorelasi.\n"
   ]
  },
  {
   "cell_type": "markdown",
   "id": "9b2cbc06",
   "metadata": {
    "papermill": {
     "duration": 0.173276,
     "end_time": "2021-10-17T17:29:33.507403",
     "exception": false,
     "start_time": "2021-10-17T17:29:33.334127",
     "status": "completed"
    },
    "tags": []
   },
   "source": [
    "## 4. Defining Classifiers"
   ]
  },
  {
   "cell_type": "code",
   "execution_count": 45,
   "id": "72a6956a",
   "metadata": {
    "papermill": {
     "duration": 0.182242,
     "end_time": "2021-10-17T17:29:33.863208",
     "exception": false,
     "start_time": "2021-10-17T17:29:33.680966",
     "status": "completed"
    },
    "tags": []
   },
   "outputs": [],
   "source": [
    "classifiers = {\n",
    "    'Logistic Regression' : LogisticRegression(),\n",
    "    'K Neighbors Classifier': KNeighborsClassifier(),\n",
    "    'Decision Tree Classifier': DecisionTreeClassifier(),\n",
    "}"
   ]
  },
  {
   "cell_type": "markdown",
   "id": "413f135d-62d4-4a4d-968b-5f12b8d7295c",
   "metadata": {},
   "source": [
    "Pemilihan feature dan target untuk model"
   ]
  },
  {
   "cell_type": "code",
   "execution_count": 46,
   "id": "55d9ac84-dcc5-46e7-a05b-b5a02dd4f284",
   "metadata": {},
   "outputs": [],
   "source": [
    "x = df.drop('Attrition', axis = 1)\n",
    "y = df['Attrition']"
   ]
  },
  {
   "cell_type": "markdown",
   "id": "99784691",
   "metadata": {
    "papermill": {
     "duration": 0.175253,
     "end_time": "2021-10-17T17:29:34.563626",
     "exception": false,
     "start_time": "2021-10-17T17:29:34.388373",
     "status": "completed"
    },
    "tags": []
   },
   "source": [
    "## 5. Evaluation metrics\n",
    "### a. Classification Reports (mean values for k-folds)"
   ]
  },
  {
   "cell_type": "code",
   "execution_count": 47,
   "id": "ffe8995d",
   "metadata": {
    "papermill": {
     "duration": 14.805138,
     "end_time": "2021-10-17T17:29:49.545764",
     "exception": false,
     "start_time": "2021-10-17T17:29:34.740626",
     "status": "completed"
    },
    "tags": []
   },
   "outputs": [
    {
     "name": "stdout",
     "output_type": "stream",
     "text": [
      "classification report for Logistic Regression with imbalanced data:\n",
      "                  0         1  accuracy macro avg weighted avg\n",
      "precision  0.891679  0.749612  0.879592  0.820646     0.868708\n",
      "recall     0.974846  0.383954  0.879592    0.6794     0.879592\n",
      "f1-score   0.931404  0.507314  0.879592  0.719359     0.863022\n",
      "support       246.6      47.4  0.879592     294.0        294.0\n",
      "\n",
      "classification report for Logistic Regression with oversampled data:\n",
      "                  0         1  accuracy macro avg weighted avg\n",
      "precision   0.93591  0.377686  0.762585  0.656798     0.845925\n",
      "recall     0.769678  0.725798  0.762585  0.747738     0.762585\n",
      "f1-score   0.844627  0.496616  0.762585  0.670621     0.788523\n",
      "support       246.6      47.4  0.762585     294.0        294.0\n",
      "\n",
      "===============================================================\n",
      "classification report for K Neighbors Classifier with imbalanced data:\n",
      "                  0         1  accuracy macro avg weighted avg\n",
      "precision  0.851614  0.558687  0.841497   0.70515     0.804386\n",
      "recall     0.982153  0.109574  0.841497  0.545864     0.841497\n",
      "f1-score   0.912228  0.181995  0.841497  0.547111     0.794528\n",
      "support       246.6      47.4  0.841497     294.0        294.0\n",
      "\n",
      "classification report for K Neighbors Classifier with oversampled data:\n",
      "                  0         1  accuracy macro avg weighted avg\n",
      "precision  0.917022  0.278029  0.659184  0.597525     0.814011\n",
      "recall     0.652901  0.692376  0.659184  0.672639     0.659184\n",
      "f1-score   0.762141  0.396165  0.659184  0.579153     0.703113\n",
      "support       246.6      47.4  0.659184     294.0        294.0\n",
      "\n",
      "===============================================================\n",
      "classification report for Decision Tree Classifier with imbalanced data:\n",
      "                  0         1  accuracy macro avg weighted avg\n",
      "precision    0.8814  0.363216  0.790476  0.622308     0.797825\n",
      "recall     0.866969  0.392553  0.790476  0.629761     0.790476\n",
      "f1-score   0.873947  0.375679  0.790476  0.624813     0.793595\n",
      "support       246.6      47.4  0.790476     294.0        294.0\n",
      "\n",
      "classification report for Decision Tree Classifier with oversampled data:\n",
      "                  0         1  accuracy macro avg weighted avg\n",
      "precision   0.87444  0.307807  0.761905  0.591123     0.783101\n",
      "recall     0.836177  0.375532  0.761905  0.605855     0.761905\n",
      "f1-score   0.854787  0.337638  0.761905  0.596212     0.771416\n",
      "support       246.6      47.4  0.761905     294.0        294.0\n",
      "\n",
      "===============================================================\n"
     ]
    }
   ],
   "source": [
    "skf = StratifiedKFold(n_splits = 5, random_state = 42, shuffle=True)\n",
    "scaler = StandardScaler()\n",
    "d1 = []\n",
    "\n",
    "#indeces and columns for classification report\n",
    "ind = ['precision', 'recall', 'f1-score', 'support']\n",
    "cols = ['0', '1', 'accuracy','macro avg', 'weighted avg']\n",
    "\n",
    "for name, clf in classifiers.items(): \n",
    "    #del d1,d2\n",
    "    d1 = [] # a list to collect the classification report of imbalanced data\n",
    "    d2 = [] # a list to collect the classification report of oversampled data\n",
    "    for train_ind, valid_ind in skf.split(x, y):\n",
    "        \n",
    "        x.iloc[train_ind] = scaler.fit_transform(x.iloc[train_ind])\n",
    "        x.iloc[valid_ind] = scaler.transform(x.iloc[valid_ind])\n",
    "        \n",
    "        clf.fit(x.iloc[train_ind], y.iloc[train_ind])\n",
    "        y_train_pred = clf.predict(x.iloc[train_ind])\n",
    "        y_valid_pred = clf.predict(x.iloc[valid_ind])\n",
    "        \n",
    "        #resamples only minority class\n",
    "        x_oversampled, y_oversampled = SMOTE(\n",
    "            sampling_strategy = 'minority', random_state = 42).fit_resample(x.iloc[train_ind], y.iloc[train_ind])\n",
    "        clf.fit(x_oversampled, y_oversampled)\n",
    "        y_valid_pred_oversampled = clf.predict(x.iloc[valid_ind])\n",
    "        \n",
    "        d3 = classification_report(y.iloc[valid_ind], y_valid_pred, output_dict = True)\n",
    "        d4 = classification_report(y.iloc[valid_ind], y_valid_pred_oversampled, output_dict = True)\n",
    "        \n",
    "        d1.append(d3)\n",
    "        d2.append(d4)\n",
    "    \n",
    "    temp_df_1 = pd.DataFrame(d1, columns = cols) #Dataframe containing the classification report for all 5-folds for imbalanced data\n",
    "    temp_df_2 = pd.DataFrame(d2, columns = cols) #Dataframe containing the classification report for all 5-folds for oversampled data\n",
    "    \n",
    "    #del report_1, report_2\n",
    "    report_1 = pd.DataFrame(index = ind, columns = cols) #classification report for imbalanced data\n",
    "    report_2 = pd.DataFrame(index = ind, columns = cols) #classification report for oversampled data\n",
    "\n",
    "    for index in ind:\n",
    "        for col in temp_df_1:\n",
    "            #del g1, g2\n",
    "            g1 = [] #containing the values for each index(accuracy, precision, etc) in 5-folds for a speicific col in imbalanced data\n",
    "            g2 = [] #containing the values for each index(accuracy, precision, etc) in 5-folds for a speicific col in oversampled data\n",
    "            \n",
    "            if col == 'accuracy':\n",
    "                report_1.loc[index,col] = np.mean(temp_df_1[col])\n",
    "                report_2.loc[index,col] = np.mean(temp_df_2[col])\n",
    "                continue\n",
    "\n",
    "            g1.append(temp_df_1[col].apply(lambda x: x[index])) #exctracting the data for each index (accuracy, precison, etc)\n",
    "            g2.append(temp_df_2[col].apply(lambda x: x[index]))\n",
    "            \n",
    "            report_1.loc[index,col] = np.mean(g1) #Taking the mean for 5-folds\n",
    "            report_2.loc[index,col] = np.mean(g2)\n",
    "        \n",
    "    print('classification report for', name, 'with imbalanced data:' )\n",
    "    print(report_1)\n",
    "    print('')\n",
    "    print('classification report for', name, 'with oversampled data:' )\n",
    "    print(report_2)\n",
    "    print('')\n",
    "    print('===============================================================')"
   ]
  },
  {
   "cell_type": "markdown",
   "id": "2c8bc1ec",
   "metadata": {
    "papermill": {
     "duration": 0.176185,
     "end_time": "2021-10-17T17:29:49.898693",
     "exception": false,
     "start_time": "2021-10-17T17:29:49.722508",
     "status": "completed"
    },
    "tags": []
   },
   "source": [
    "Logistik regresi memberikan skor f1 terbaik untuk kelas attrition = Yes dengan 0,496. Regresi logistik mengikutinya sebagai pengklasifikasi terbaik kedua dengan 0,495.\n",
    "Kami akan melanjutkan analisis dengan mempertimbangkan iterasi terakhir dari split dataset sebagai split untuk training set dan test set."
   ]
  },
  {
   "cell_type": "markdown",
   "id": "ed1f043f-e35d-45b7-a113-958ed695bc84",
   "metadata": {
    "papermill": {
     "duration": 0.182243,
     "end_time": "2021-10-17T17:29:59.942245",
     "exception": false,
     "start_time": "2021-10-17T17:29:59.760002",
     "status": "completed"
    },
    "tags": []
   },
   "source": [
    "### b. Area Under Curve"
   ]
  },
  {
   "cell_type": "code",
   "execution_count": 48,
   "id": "a920c655-32b1-499b-adb7-7d8371401502",
   "metadata": {},
   "outputs": [],
   "source": [
    "x_train = x_oversampled\n",
    "y_train = y_oversampled\n",
    "x_test = x.iloc[valid_ind]\n",
    "y_test = y.iloc[valid_ind]"
   ]
  },
  {
   "cell_type": "code",
   "execution_count": 49,
   "id": "ad45fae9-9c54-47f8-a55f-ca14e8f69241",
   "metadata": {
    "papermill": {
     "duration": 2.414967,
     "end_time": "2021-10-17T17:29:59.213669",
     "exception": false,
     "start_time": "2021-10-17T17:29:56.798702",
     "status": "completed"
    },
    "tags": []
   },
   "outputs": [
    {
     "name": "stdout",
     "output_type": "stream",
     "text": [
      "Logistic Regression\n"
     ]
    }
   ],
   "source": [
    "train_class_report = {}\n",
    "test_class_report = {}\n",
    "AP_score = {}\n",
    "auc_score = {}\n",
    "\n",
    "#fig, ax = plt.subplots(4,2, figsize = (10,12)) #Runs with no problem in sklearn 1.0 and onwards\n",
    "i = 0\n",
    "    \n",
    "for name, clf in classifiers.items():\n",
    "    clf.fit(x_train, y_train)\n",
    "    y_train_pred = clf.predict(x_train)\n",
    "    y_test_pred = clf.predict(x_test)\n",
    "    train_class_report[name] = pd.DataFrame(classification_report(y_train, y_train_pred, output_dict = True))\n",
    "    test_class_report[name] = pd.DataFrame(classification_report(y_test, y_test_pred, output_dict = True))\n",
    "    if (name != 'K Neighbors Classifier' and name != 'Decision Tree Classifier'):\n",
    "        print(name)\n",
    "        y_pred_decision = clf.decision_function(x_test)\n",
    "        AP_score[name] = np.round(average_precision_score(y_test, y_pred_decision),3)\n",
    "    auc_score[name] = np.round(roc_auc_score(y_test, y_test_pred),3)\n",
    "    #PrecisionRecallDisplay.from_estimator(clf, x_test, y_test, ax = ax[i//2, (i)%2]) #Runs with no problem in sklearn 1.0 and onwards\n",
    "\n",
    "    i += 1"
   ]
  },
  {
   "cell_type": "code",
   "execution_count": 50,
   "id": "9c5595eb-b39c-42bd-b623-65e471277530",
   "metadata": {
    "papermill": {
     "duration": 0.189734,
     "end_time": "2021-10-17T17:30:00.313255",
     "exception": false,
     "start_time": "2021-10-17T17:30:00.123521",
     "status": "completed"
    },
    "tags": []
   },
   "outputs": [
    {
     "data": {
      "text/plain": [
       "{'Logistic Regression': 0.757,\n",
       " 'K Neighbors Classifier': 0.645,\n",
       " 'Decision Tree Classifier': 0.608}"
      ]
     },
     "execution_count": 50,
     "metadata": {},
     "output_type": "execute_result"
    }
   ],
   "source": [
    "auc_score"
   ]
  },
  {
   "cell_type": "code",
   "execution_count": 51,
   "id": "d579e135-ba9f-43bd-8af9-0e5a8b67129d",
   "metadata": {
    "papermill": {
     "duration": 0.600773,
     "end_time": "2021-10-17T17:30:01.092488",
     "exception": false,
     "start_time": "2021-10-17T17:30:00.491715",
     "status": "completed"
    },
    "tags": []
   },
   "outputs": [
    {
     "data": {
      "image/png": "[encoded data removed]",
      "text/plain": [
       "<Figure size 576x360 with 1 Axes>"
      ]
     },
     "metadata": {
      "needs_background": "light"
     },
     "output_type": "display_data"
    }
   ],
   "source": [
    "fig, ax = plt.subplots(figsize = (8,5))\n",
    "for name, clf in classifiers.items():\n",
    "    #y_predict = cross_val_predict(clf, x_test, y_test, method = 'predict')\n",
    "    y_predict = clf.predict(x_test)\n",
    "    fpr, tpr, threshold = roc_curve(y_test, y_predict)\n",
    "    auc_score = roc_auc_score(y_test, y_predict)\n",
    "    ax.plot(fpr, tpr, label = (name +' :%.2f' %(auc_score)))\n",
    "    ax.legend()\n",
    "    ax.set_xlabel('fpr', fontsize = 16)\n",
    "    ax.set_ylabel('tpr', fontsize = 16)\n",
    "    ax.set_title('Area Under Curve Score', fontsize = 18)\n",
    "plt.show()"
   ]
  },
  {
   "cell_type": "markdown",
   "id": "13ddf914-7936-4e49-b3b9-857480ce35bc",
   "metadata": {},
   "source": [
    "Model yang memiliki skor AUC paling baik adalah logistik regresi, dengan nilai 0,76."
   ]
  },
  {
   "cell_type": "markdown",
   "id": "75abfef7",
   "metadata": {
    "papermill": {
     "duration": 0.187291,
     "end_time": "2021-10-17T17:30:04.129661",
     "exception": false,
     "start_time": "2021-10-17T17:30:03.942370",
     "status": "completed"
    },
    "tags": []
   },
   "source": [
    "## 6. Hyperparameter Tuning and Model Improvement"
   ]
  },
  {
   "cell_type": "markdown",
   "id": "66660cfa",
   "metadata": {
    "papermill": {
     "duration": 0.183854,
     "end_time": "2021-10-17T17:30:04.499328",
     "exception": false,
     "start_time": "2021-10-17T17:30:04.315474",
     "status": "completed"
    },
    "tags": []
   },
   "source": [
    "Kami melakukan tuning hyperparameter untuk model yang telah kami uji"
   ]
  },
  {
   "cell_type": "code",
   "execution_count": 52,
   "id": "0bd19c94-be1e-4a62-96ee-0ff28ea1cd37",
   "metadata": {
    "papermill": {
     "duration": 0.194673,
     "end_time": "2021-10-17T17:30:04.879943",
     "exception": false,
     "start_time": "2021-10-17T17:30:04.685270",
     "status": "completed"
    },
    "tags": []
   },
   "outputs": [],
   "source": [
    "hyperparameters = {\n",
    "    'Logistic Regression':{\n",
    "                            'penalty': ['l1', 'l2'], 'C':[0.01, 0.1, 1] \n",
    "                            }, #l1 referst to lasso regression and l2 to Ridge regression, C is the inverse of (lambda, strength of regularization)\n",
    "    'K Neighbors Classifier':{\n",
    "                            'algorithm':['auto', 'ball_tree', 'kd_tree', 'brute'], 'n_neighbors': list(range(3,8,1))\n",
    "                              },#‘auto’ will attempt to decide the most appropriate algorithm based on the values passed to fit method.\n",
    "    'Decision Tree Classifier':{\n",
    "                                'criterion': ['gini', 'entropy'], 'max_depth': list(range(2,5,1))\n",
    "                                #Criterion is the function to measure the quality of a split. Supported criteria are “gini” for the Gini impurity and “entropy” for the information gain\n",
    "                                }\n",
    "}"
   ]
  },
  {
   "cell_type": "code",
   "execution_count": 53,
   "id": "ec8e47dc-ff71-4fe0-b237-25a1188fc88c",
   "metadata": {
    "papermill": {
     "duration": 15.224394,
     "end_time": "2021-10-17T17:30:20.496934",
     "exception": false,
     "start_time": "2021-10-17T17:30:05.272540",
     "status": "completed"
    },
    "tags": []
   },
   "outputs": [
    {
     "name": "stdout",
     "output_type": "stream",
     "text": [
      "The best hyperparameters for Logistic Regression : {'C': 0.01, 'penalty': 'l2'} with r2 score: 0.8\n",
      "The best hyperparameters for K Neighbors Classifier : {'algorithm': 'auto', 'n_neighbors': 4} with r2 score: 0.9\n",
      "The best hyperparameters for Decision Tree Classifier : {'criterion': 'gini', 'max_depth': 4} with r2 score: 0.8\n"
     ]
    }
   ],
   "source": [
    "cv = StratifiedKFold(n_splits = 5, shuffle = True, random_state = 32)\n",
    "clfs = []\n",
    "\n",
    "for clf, hyperparam in hyperparameters.items():\n",
    "    estimator = classifiers.get(clf)\n",
    "    grid = GridSearchCV(estimator, hyperparam, cv = cv)\n",
    "    grid.fit(x_train, y_train)\n",
    "    best_hyperparams = grid.best_params_\n",
    "    clfs.append(grid.best_estimator_)\n",
    "    print('The best hyperparameters for', clf, ':', best_hyperparams, 'with r2 score: %0.1f' %(grid.best_score_))"
   ]
  },
  {
   "cell_type": "markdown",
   "id": "36362993-39d9-4a79-9a7c-3ad2be1c3ea3",
   "metadata": {},
   "source": [
    "Perubahan dengan tuning hyperparameter dalam kasus kami adalah tidak terlalu signifikan. Ini mungkin karena dataset kami yang kecil.\n",
    "Regresi logistik merupakan model pengklasifikasi terbaik diantara model lainnya yang kami uji. GridSearch menunjukan bahwa C = 1 dan penalti = l2 memberikan hasil terbaik untuk pengklasifikasi ini. Namun keduanya merupakan nilai default untuk model Regresi Logistik. Jadi performa terbaik yang kami dapatkan dari model klasifikasi kami adalah auc = 76 dan F1-score = 0,84 untuk atrisi yes dan 0,49 untuk atrisi no."
   ]
  },
  {
   "cell_type": "markdown",
   "id": "e9ecdde5",
   "metadata": {
    "papermill": {
     "duration": 0.184005,
     "end_time": "2021-10-17T17:30:21.607033",
     "exception": false,
     "start_time": "2021-10-17T17:30:21.423028",
     "status": "completed"
    },
    "tags": []
   },
   "source": [
    "## 7. Feature importance"
   ]
  },
  {
   "cell_type": "code",
   "execution_count": 54,
   "id": "5293b456",
   "metadata": {
    "papermill": {
     "duration": 0.226144,
     "end_time": "2021-10-17T17:30:22.393822",
     "exception": false,
     "start_time": "2021-10-17T17:30:22.167678",
     "status": "completed"
    },
    "tags": []
   },
   "outputs": [],
   "source": [
    "lr_clf = LogisticRegression()\n",
    "lr_clf.fit(x_train, y_train)\n",
    "y_train_pred = lr_clf.predict(x_train)\n",
    "y_test_pred = lr_clf.predict(x_test)"
   ]
  },
  {
   "cell_type": "code",
   "execution_count": 55,
   "id": "9c6a22b5",
   "metadata": {
    "papermill": {
     "duration": 0.197244,
     "end_time": "2021-10-17T17:30:22.832879",
     "exception": false,
     "start_time": "2021-10-17T17:30:22.635635",
     "status": "completed"
    },
    "tags": []
   },
   "outputs": [
    {
     "data": {
      "text/plain": [
       "Index(['Age', 'BusinessTravel', 'DailyRate', 'Department', 'DistanceFromHome',\n",
       "       'Education', 'EducationField', 'EnvironmentSatisfaction', 'Gender',\n",
       "       'HourlyRate', 'JobInvolvement', 'JobLevel', 'JobRole',\n",
       "       'JobSatisfaction', 'MaritalStatus', 'MonthlyIncome', 'MonthlyRate',\n",
       "       'NumCompaniesWorked', 'OverTime', 'PercentSalaryHike',\n",
       "       'PerformanceRating', 'RelationshipSatisfaction', 'StockOptionLevel',\n",
       "       'TotalWorkingYears', 'TrainingTimesLastYear', 'WorkLifeBalance',\n",
       "       'YearsAtCompany', 'YearsInCurrentRole', 'YearsSinceLastPromotion',\n",
       "       'YearsWithCurrManager'],\n",
       "      dtype='object')"
      ]
     },
     "execution_count": 55,
     "metadata": {},
     "output_type": "execute_result"
    }
   ],
   "source": [
    "feature_names = x.columns\n",
    "feature_names"
   ]
  },
  {
   "cell_type": "code",
   "execution_count": 56,
   "id": "17d8c23c",
   "metadata": {
    "papermill": {
     "duration": 0.192684,
     "end_time": "2021-10-17T17:30:23.209764",
     "exception": false,
     "start_time": "2021-10-17T17:30:23.017080",
     "status": "completed"
    },
    "tags": []
   },
   "outputs": [],
   "source": [
    "w = np.zeros((30,))\n",
    "w = lr_clf.coef_[0]"
   ]
  },
  {
   "cell_type": "code",
   "execution_count": 57,
   "id": "b3fb93a7",
   "metadata": {
    "papermill": {
     "duration": 0.194082,
     "end_time": "2021-10-17T17:30:23.588168",
     "exception": false,
     "start_time": "2021-10-17T17:30:23.394086",
     "status": "completed"
    },
    "tags": []
   },
   "outputs": [
    {
     "data": {
      "text/plain": [
       "array([-8.93313424e-02,  2.97642864e-02, -2.55772354e-01,  4.40892648e-01,\n",
       "        3.54980931e-01, -4.51772091e-04,  2.13593863e-01, -6.74746586e-01,\n",
       "        2.15849165e-01, -1.61759911e-02, -3.52163232e-01,  5.88583828e-01,\n",
       "       -2.27880189e-01, -4.57535957e-01,  2.40194948e-01, -1.07649035e+00,\n",
       "        1.23613626e-02,  4.17738058e-01,  9.19928006e-01, -2.93105359e-01,\n",
       "        2.55210958e-02, -1.60153447e-01, -5.25717277e-01, -4.80997050e-01,\n",
       "       -1.42097978e-01, -2.60356203e-01, -4.07311676e-02, -1.91069441e-01,\n",
       "        5.94462965e-01, -2.60760812e-01])"
      ]
     },
     "execution_count": 57,
     "metadata": {},
     "output_type": "execute_result"
    }
   ],
   "source": [
    "w"
   ]
  },
  {
   "cell_type": "code",
   "execution_count": 58,
   "id": "b916bb5e",
   "metadata": {
    "papermill": {
     "duration": 0.19977,
     "end_time": "2021-10-17T17:30:23.971358",
     "exception": false,
     "start_time": "2021-10-17T17:30:23.771588",
     "status": "completed"
    },
    "tags": []
   },
   "outputs": [
    {
     "data": {
      "text/html": [
       "<div>\n",
       "<style scoped>\n",
       "    .dataframe tbody tr th:only-of-type {\n",
       "        vertical-align: middle;\n",
       "    }\n",
       "\n",
       "    .dataframe tbody tr th {\n",
       "        vertical-align: top;\n",
       "    }\n",
       "\n",
       "    .dataframe thead th {\n",
       "        text-align: right;\n",
       "    }\n",
       "</style>\n",
       "<table border=\"1\" class=\"dataframe\">\n",
       "  <thead>\n",
       "    <tr style=\"text-align: right;\">\n",
       "      <th></th>\n",
       "      <th>feature</th>\n",
       "      <th>importance</th>\n",
       "    </tr>\n",
       "  </thead>\n",
       "  <tbody>\n",
       "    <tr>\n",
       "      <th>18</th>\n",
       "      <td>OverTime</td>\n",
       "      <td>2.509110</td>\n",
       "    </tr>\n",
       "    <tr>\n",
       "      <th>28</th>\n",
       "      <td>YearsSinceLastPromotion</td>\n",
       "      <td>1.812058</td>\n",
       "    </tr>\n",
       "    <tr>\n",
       "      <th>11</th>\n",
       "      <td>JobLevel</td>\n",
       "      <td>1.801435</td>\n",
       "    </tr>\n",
       "    <tr>\n",
       "      <th>3</th>\n",
       "      <td>Department</td>\n",
       "      <td>1.554094</td>\n",
       "    </tr>\n",
       "    <tr>\n",
       "      <th>17</th>\n",
       "      <td>NumCompaniesWorked</td>\n",
       "      <td>1.518523</td>\n",
       "    </tr>\n",
       "    <tr>\n",
       "      <th>4</th>\n",
       "      <td>DistanceFromHome</td>\n",
       "      <td>1.426153</td>\n",
       "    </tr>\n",
       "    <tr>\n",
       "      <th>14</th>\n",
       "      <td>MaritalStatus</td>\n",
       "      <td>1.271497</td>\n",
       "    </tr>\n",
       "  </tbody>\n",
       "</table>\n",
       "</div>"
      ],
      "text/plain": [
       "                    feature  importance\n",
       "18                 OverTime    2.509110\n",
       "28  YearsSinceLastPromotion    1.812058\n",
       "11                 JobLevel    1.801435\n",
       "3                Department    1.554094\n",
       "17       NumCompaniesWorked    1.518523\n",
       "4          DistanceFromHome    1.426153\n",
       "14            MaritalStatus    1.271497"
      ]
     },
     "execution_count": 58,
     "metadata": {},
     "output_type": "execute_result"
    }
   ],
   "source": [
    "feature_importance = pd.DataFrame(feature_names, columns = [\"feature\"])\n",
    "feature_importance[\"importance\"] = pow(math.e, w)\n",
    "feature_importance = feature_importance.sort_values(by = [\"importance\"], ascending = False)\n",
    "feature_importance[:7]"
   ]
  },
  {
   "cell_type": "code",
   "execution_count": 59,
   "id": "c535f665",
   "metadata": {
    "papermill": {
     "duration": 0.801037,
     "end_time": "2021-10-17T17:30:24.958903",
     "exception": false,
     "start_time": "2021-10-17T17:30:24.157866",
     "status": "completed"
    },
    "tags": []
   },
   "outputs": [
    {
     "data": {
      "text/plain": [
       "<AxesSubplot:xlabel='importance', ylabel='feature'>"
      ]
     },
     "execution_count": 59,
     "metadata": {},
     "output_type": "execute_result"
    },
    {
     "data": {
      "image/png": "[encoded data removed]",
      "text/plain": [
       "<Figure size 720x1080 with 1 Axes>"
      ]
     },
     "metadata": {
      "needs_background": "light"
     },
     "output_type": "display_data"
    }
   ],
   "source": [
    "fig, ax = plt.subplots(1,1, figsize=(10,15))\n",
    "sns.barplot(x='importance', y='feature', color='green',data=feature_importance.reset_index())"
   ]
  },
  {
   "cell_type": "markdown",
   "id": "6a916e09",
   "metadata": {
    "papermill": {
     "duration": 0.194788,
     "end_time": "2021-10-17T17:30:25.340345",
     "exception": false,
     "start_time": "2021-10-17T17:30:25.145557",
     "status": "completed"
    },
    "tags": []
   },
   "source": [
    "Dari plot feature important diatas, kita dapat melihat faktor mana yang paling mempengaruhi dan paling sedikit mempengaruhi atrisi. Overtime ternyata memiliki dampak yang besar dalam mempengaruhi atrisi, dan monthly income mungkin merupakan faktor yang paling tidak penting, atau dengan kata lain, mempunyai pengaruh paling sedikit terhadap atrisi."
   ]
  },
  {
   "cell_type": "markdown",
   "id": "88cbb071",
   "metadata": {
    "papermill": {
     "duration": 0.190296,
     "end_time": "2021-10-17T17:30:26.714516",
     "exception": false,
     "start_time": "2021-10-17T17:30:26.524220",
     "status": "completed"
    },
    "tags": []
   },
   "source": [
    "## 8. Summary"
   ]
  },
  {
   "cell_type": "markdown",
   "id": "d1d90170",
   "metadata": {
    "papermill": {
     "duration": 0.189455,
     "end_time": "2021-10-17T17:30:27.093611",
     "exception": false,
     "start_time": "2021-10-17T17:30:26.904156",
     "status": "completed"
    },
    "tags": []
   },
   "source": [
    "Dalam project ini kami mencoba mencari tahu faktor apa saja yang berkontribusi terhadap atrisi karyawan.  <br>\n",
    "Regresi Logistik merupakan model terbaik dengan F1-score = 0,84 untuk atrisi yes dan 0,49 untuk atrisi no. <br>\n",
    "Dari model tersebut juga didapatkan insight bahwa faktor paling berpengaruh terhadap atrisi adalah overtime dan diikuti oleh years since last promotion."
   ]
  }
 ],
 "metadata": {
  "kernelspec": {
   "display_name": "Python 3",
   "language": "python",
   "name": "python3"
  },
  "language_info": {
   "codemirror_mode": {
    "name": "ipython",
    "version": 3
   },
   "file_extension": ".py",
   "mimetype": "text/x-python",
   "name": "python",
   "nbconvert_exporter": "python",
   "pygments_lexer": "ipython3",
   "version": "3.8.8"
  },
  "papermill": {
   "default_parameters": {},
   "duration": 112.181969,
   "end_time": "2021-10-17T17:30:28.291454",
   "environment_variables": {},
   "exception": null,
   "input_path": "__notebook__.ipynb",
   "output_path": "__notebook__.ipynb",
   "parameters": {},
   "start_time": "2021-10-17T17:28:36.109485",
   "version": "2.3.3"
  }
 },
 "nbformat": 4,
 "nbformat_minor": 5
}
